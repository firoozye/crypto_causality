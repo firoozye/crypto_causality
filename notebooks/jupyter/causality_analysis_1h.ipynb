{
 "cells": [
  {
   "cell_type": "markdown",
   "id": "f0192752",
   "metadata": {},
   "source": [
    "# Causality Analysis of Crypto Data\n",
    "\n",
    " This script performs a comprehensive analysis of causal relationships between major\n",
    " cryptocurrencies using Granger causality tests. It includes pairwise, multivariate,\n",
    " and time-varying Granger causality analyses to uncover potential causal influences\n",
    " among cryptocurrencies. This notebook begins with the analysis of Kose and Unal\n",
    " (see references)."
   ]
  },
  {
   "cell_type": "markdown",
   "id": "876eca03",
   "metadata": {
    "lines_to_next_cell": 2
   },
   "source": [
    "## References:\n",
    "* [Granger Causality (Wikipedia)](https://en.wikipedia.org/wiki/Granger_causality)\n",
    "* [Granger Causality: A Review (Annual Reviews)](https://www.annualreviews.org/content/journals/10.1146/annurev-statistics-040120-010930)\n",
    "* [Kose & Unal, Causal relationship among cryptocurrencies:  The effects of sampling interval and\n",
    "sample size](https://www.scopus.com/pages/publications/85149277679)\n",
    "\n",
    "## Goal:\n",
    "* Determine causal relationships between BTC and other major crypto currencies\n",
    "* Analyze the stability of these relationships over time"
   ]
  },
  {
   "cell_type": "code",
   "execution_count": null,
   "id": "2307ce30",
   "metadata": {},
   "outputs": [],
   "source": [
    "import glob\n",
    "import os\n",
    "# Import causality analysis tools\n",
    "import sys\n",
    "\n",
    "import matplotlib.pyplot as plt\n",
    "import networkx as nx\n",
    "import numpy as np\n",
    "import pandas as pd\n",
    "import pyarrow.parquet as pq\n",
    "import seaborn as sns\n",
    "\n",
    "# Add the project root to the python path\n",
    "try:\n",
    "    # This works when the script is run directly\n",
    "    project_root = os.path.abspath(os.path.join(os.path.dirname(__file__), \"..\", \"..\"))\n",
    "except NameError:\n",
    "    # This works when run in an interactive environment like Jupyter\n",
    "    # Assumes the notebook is in notebooks/python or notebooks/jupyter\n",
    "    project_root = os.path.abspath(os.path.join(os.getcwd(), \"..\", \"..\"))\n",
    "\n",
    "if project_root not in sys.path:\n",
    "    sys.path.insert(0, project_root)\n",
    "\n",
    "from src.analysis.granger_causality import GrangerCausalityAnalyzer\n",
    "from src.analysis.time_varying_granger import (plot_tvgc_results,\n",
    "                                               rolling_granger_causality,\n",
    "                                               summarize_tvgc_results)\n",
    "from src.data.data_processor import DataProcessor\n",
    "\n",
    "# Set style for better visualizations\n",
    "sns.set_theme()\n",
    "sns.set_palette(\"husl\")\n",
    "plt.rcParams[\"figure.figsize\"] = [12, 6]"
   ]
  },
  {
   "cell_type": "markdown",
   "id": "25255998",
   "metadata": {
    "lines_to_next_cell": 2
   },
   "source": [
    "## Data Loading\n",
    "First, let's load our data files containing the cryptocurrency data."
   ]
  },
  {
   "cell_type": "code",
   "execution_count": null,
   "id": "f294fc93",
   "metadata": {
    "lines_to_next_cell": 2
   },
   "outputs": [],
   "source": [
    "\n",
    "\n",
    "def load_all_crypto_data(data_dir=os.path.join(project_root, \"data\", \"processed\")):\n",
    "    all_data = {}\n",
    "    for file in glob.glob(os.path.join(data_dir, \"*.parquet\")):\n",
    "        symbol = os.path.basename(file).split(\"_\")[0]\n",
    "        # Get symbol from filename\n",
    "        print(f\"Loading {file}...\")\n",
    "        df = pq.read_table(file).to_pandas()\n",
    "        all_data[symbol] = df\n",
    "    return all_data"
   ]
  },
  {
   "cell_type": "markdown",
   "id": "14263782",
   "metadata": {
    "lines_to_next_cell": 2
   },
   "source": [
    " ## Load Cryptocurrency Data\n",
    "\n",
    "  The data is expected to be in Parquet format, with each file named as\n",
    " `<symbol>_data.parquet`.\n",
    " The files should contain columns like `timestamp`, `open`, `high`, `low`, `close`,\n",
    " and `volume`.\n",
    " ### Note:\n",
    " Note that all data is downloaded from Binance using the binance API, and the\n",
    " src/data/downloader.py script.  This can be easily adapted to load different\n",
    " frequencies or different symbols"
   ]
  },
  {
   "cell_type": "code",
   "execution_count": null,
   "id": "18a8780d",
   "metadata": {},
   "outputs": [],
   "source": [
    "# Load the data\n",
    "\n",
    "crypto_data = load_all_crypto_data()"
   ]
  },
  {
   "cell_type": "code",
   "execution_count": null,
   "id": "8a98b08f",
   "metadata": {},
   "outputs": [],
   "source": [
    "# Calculate returns for each crypto\n",
    "returns_data = {}\n",
    "for symbol, df in crypto_data.items():\n",
    "    returns = pd.DataFrame()\n",
    "    returns[\"timestamp\"] = df[\"timestamp\"]\n",
    "    returns[\"returns\"] = np.log(df[\"close\"].astype(float)).diff()\n",
    "    returns_data[symbol] = returns"
   ]
  },
  {
   "cell_type": "code",
   "execution_count": null,
   "id": "486672f7",
   "metadata": {},
   "outputs": [],
   "source": [
    "# Create a combined returns dataframe\n",
    "combined_returns = pd.DataFrame()\n",
    "for symbol, returns in returns_data.items():\n",
    "    combined_returns[symbol] = returns[\"returns\"]\n",
    "combined_returns.index = list(returns_data.values())[0][\"timestamp\"]"
   ]
  },
  {
   "cell_type": "markdown",
   "id": "7cbfe849",
   "metadata": {},
   "source": [
    "## Resampling Data to Lower Frequencies\n",
    "To investigate causality at longer frequencies, we will resample the 1-minute data."
   ]
  },
  {
   "cell_type": "code",
   "execution_count": null,
   "id": "89a7e5b7",
   "metadata": {
    "lines_to_next_cell": 0
   },
   "outputs": [],
   "source": [
    "# Initialize DataProcessor (we only need it for the resample_data method)\n",
    "data_processor = DataProcessor(data={})\n",
    "\n",
    "# Resample combined returns to 1-hour frequency\n",
    "# Note: This resampling is for the returns data. If you need to resample OHLCV data,\n",
    "# you would do it on the individual crypto_data dataframes before calculating returns.\n",
    "resampled_returns_1h = combined_returns.resample('1H').last().dropna()\n",
    "\n",
    "print(f\"Shape of 1-minute returns: {combined_returns.shape}\")\n",
    "print(f\"Shape of 1-hour resampled returns: {resampled_returns_1h.shape}\")\n",
    "\n",
    "# Use the resampled data for analysis from now on\n",
    "combined_returns = resampled_returns_1h"
   ]
  },
  {
   "cell_type": "markdown",
   "id": "11466b5e",
   "metadata": {},
   "source": [
    "## Pairwise Granger Causality\n",
    "We will now perform pairwise Granger causality tests to identify potential causal\n",
    "relationships between the cryptocurrencies.\n",
    "Eseentially this is fitting a model of the form:\n",
    "$\\Delta x_t = \\alpha + \\sum_{i=1}^{p} \\beta_i \\Delta x_{t-i} + \\sum_{j=1}^{q} \\gamma_j\n",
    "\\Delta y_{t-j} + \\epsilon_t$\n",
    "where $x_t$ is the target variable (e.g., BTC returns) and $y_t$ is the predictor\n",
    "variable and $p$ and $q$ are the lags for the target and predictor variables, chosen\n",
    "using the Akaike Information Criterion (AIC) or Bayesian Information Criterion (BIC).\n",
    "The causality test checks if the coefficients $\\gamma_j$ are significantly different\n",
    "from zero, indicating that past values of $y_t$ help predict $x_t$."
   ]
  },
  {
   "cell_type": "code",
   "execution_count": null,
   "id": "46f06250",
   "metadata": {},
   "outputs": [],
   "source": [
    "# Initialize the analyzer\n",
    "analyzer = GrangerCausalityAnalyzer(combined_returns, max_lags=3)\n",
    "\n",
    "# Run pairwise causality analysis\n",
    "pairwise_results = analyzer.run_pairwise_causality()\n",
    "\n",
    "# Print summary of significant results\n",
    "print(\"Pairwise Granger Causality Results (Significant at 5%):\")\n",
    "print(pairwise_results[pairwise_results[\"significant\"]])"
   ]
  },
  {
   "cell_type": "markdown",
   "id": "4b2180de",
   "metadata": {
    "lines_to_next_cell": 2
   },
   "source": [
    "### Visualization of Pairwise Granger Causality\n",
    "A directed graph can help visualize the significant pairwise causal relationships."
   ]
  },
  {
   "cell_type": "code",
   "execution_count": null,
   "id": "e673f9f2",
   "metadata": {},
   "outputs": [],
   "source": [
    "def plot_causality_network(\n",
    "    pairwise_results, title=\"Significant Granger Causal Relationships\"\n",
    "):\n",
    "    G = nx.DiGraph()\n",
    "\n",
    "    # Add nodes for all unique cryptocurrencies\n",
    "    all_cryptos = pd.concat(\n",
    "        [pairwise_results[\"cause\"], pairwise_results[\"effect\"]]\n",
    "    ).unique()\n",
    "    for crypto in all_cryptos:\n",
    "        G.add_node(crypto)\n",
    "\n",
    "    # Add edges for significant relationships\n",
    "    significant_relationships = pairwise_results[pairwise_results[\"significant\"]]\n",
    "    for _, row in significant_relationships.iterrows():\n",
    "        G.add_edge(row[\"cause\"], row[\"effect\"], weight=row[\"min_p_value\"])\n",
    "\n",
    "    plt.figure(figsize=(10, 8))\n",
    "    pos = nx.spring_layout(G, k=0.8)  # positions for all nodes\n",
    "\n",
    "    # Draw nodes\n",
    "    nx.draw_networkx_nodes(G, pos, node_color=\"skyblue\", node_size=3000, alpha=0.6)\n",
    "\n",
    "    # Draw edges\n",
    "    nx.draw_networkx_edges(\n",
    "        G, pos, arrowstyle=\"->\", arrowsize=30, edge_color=\"black\", width=2.0\n",
    "    )\n",
    "\n",
    "    # Draw labels\n",
    "    nx.draw_networkx_labels(G, pos, font_size=10, font_weight=\"bold\")\n",
    "\n",
    "    plt.title(title)\n",
    "    plt.axis(\"off\")\n",
    "    plt.show()"
   ]
  },
  {
   "cell_type": "code",
   "execution_count": null,
   "id": "7af69aad",
   "metadata": {},
   "outputs": [],
   "source": [
    "plot_causality_network(pairwise_results)"
   ]
  },
  {
   "cell_type": "code",
   "execution_count": null,
   "id": "88625843",
   "metadata": {
    "lines_to_next_cell": 0
   },
   "outputs": [],
   "source": [
    "# Get summary statistics\n",
    "summary_stats = analyzer.get_summary_statistics()\n",
    "print(\"\\nCausality Summary Statistics:\")"
   ]
  },
  {
   "cell_type": "markdown",
   "id": "fd34bba6",
   "metadata": {},
   "source": [
    "## Multivariate Granger Causality\n",
    "Now, let's perform a multivariate Granger causality test to see which variables\n",
    "Granger-cause Bitcoin (BTC) in a multivariate context.\n",
    "For more details, see: [Multivariate Granger Causality (Wikipedia)](https://en.wikipedia.org/wiki/Granger_causality#Multivariate_analysis)\n",
    "Rather than testing pairwise relationships, this approach considers all variables\n",
    "simultaneously to determine their joint influence on the target variable, testing the\n",
    "significance of the coefficients in a multivariate regression model."
   ]
  },
  {
   "cell_type": "code",
   "execution_count": null,
   "id": "59d24a10",
   "metadata": {},
   "outputs": [],
   "source": [
    "# Run multivariate causality analysis for BTC\n",
    "target_crypto = \"BTCUSDT\"\n",
    "test_stats, coef_pvals, optimal_lag = analyzer.run_multivariate_causality(\n",
    "    target=target_crypto\n",
    ")\n",
    "\n",
    "print(\n",
    "    f\"\\nMultivariate Granger Causality for {target_crypto} (Optimal Lag: {optimal_lag}):\"\n",
    ")\n",
    "\n",
    "# Create a DataFrame for the results\n",
    "multivariate_results = pd.DataFrame({\"P-Value\": test_stats})"
   ]
  },
  {
   "cell_type": "markdown",
   "id": "36dd5504",
   "metadata": {},
   "source": [
    "### Visualization of Multivariate Granger Causality\n",
    "A bar chart can effectively show the p-values of each variable's causal influence on the target."
   ]
  },
  {
   "cell_type": "code",
   "execution_count": null,
   "id": "6bfa7fa0",
   "metadata": {
    "lines_to_next_cell": 2
   },
   "outputs": [],
   "source": [
    "plt.figure(figsize=(10, 6))\n",
    "multivariate_results.sort_values(by=\"P-Value\", ascending=True).plot(\n",
    "    kind=\"bar\", ax=plt.gca()\n",
    ")\n",
    "plt.axhline(y=0.05, color=\"r\", linestyle=\"--\", label=\"5% Significance Level\")\n",
    "plt.title(f\"Multivariate Granger Causality P-Values for {target_crypto}\")\n",
    "plt.xlabel(\"Causing Variable\")\n",
    "plt.ylabel(\"P-Value\")\n",
    "plt.xticks(rotation=45, ha=\"right\")\n",
    "plt.legend()\n",
    "plt.tight_layout()\n",
    "plt.show()"
   ]
  },
  {
   "cell_type": "markdown",
   "id": "2d2c02b5",
   "metadata": {},
   "source": [
    "## Time-Varying Granger Causality\n",
    "Finally, let's analyze the time-varying Granger causality between Bitcoin (BTC) and a\n",
    "less liquid coin, e.g., Solana (SOL)  to see if the relationship is stable over time.\n",
    "For more details, see:\n",
    "[Time-varying Granger Causality (Wikipedia)](https://en.wikipedia.org/wiki/Granger_causality#Time-varying_Granger_causality)\n",
    "We note that this is a rolling window analysis, where we fit a Granger causality model\n",
    "and is very much in the spirit of adaptive filtering, where the model is updated with\n",
    "each observation (e.g., RLS, EWRLS, Kalman filter, etc). This is useful for\n",
    "non-statioanry data, where the relationships between variables may change over time."
   ]
  },
  {
   "cell_type": "code",
   "execution_count": null,
   "id": "851079a4",
   "metadata": {},
   "outputs": [],
   "source": [
    "# Define the pair to test\n",
    "pair_to_test = (\"BTCUSDT\", \"SOLUSDT\")\n",
    "\n",
    "# Run time-varying Granger causality analysis\n",
    "tvgc_results = rolling_granger_causality(\n",
    "    y=combined_returns[pair_to_test[1]],\n",
    "    x=combined_returns[pair_to_test[0]],\n",
    "    window_size=500,\n",
    ")\n",
    "\n",
    "# Plot the results\n",
    "plot_tvgc_results({f\"{pair_to_test[0]} -> {pair_to_test[1]}\": tvgc_results})\n",
    "\n",
    "# Summarize the results\n",
    "summary = summarize_tvgc_results(\n",
    "    {f\"{pair_to_test[0]} -> {pair_to_test[1]}\": tvgc_results}\n",
    ")\n",
    "print(\"\\nTime-Varying Granger Causality Summary:\")\n",
    "print(summary)"
   ]
  },
  {
   "cell_type": "markdown",
   "id": "aeea0b89",
   "metadata": {
    "lines_to_next_cell": 2
   },
   "source": [
    "## Asymmetric Granger Causality\n",
    "We will now explore asymmetric Granger causality by decomposing returns into positive and negative components.\n",
    "This allows us to investigate if positive movements in one cryptocurrency have a different causal impact than negative movements."
   ]
  },
  {
   "cell_type": "code",
   "execution_count": null,
   "id": "b0710241",
   "metadata": {},
   "outputs": [],
   "source": [
    "def decompose_returns(df: pd.DataFrame) -> pd.DataFrame:\n",
    "    \"\"\"Decompose returns into positive and negative components.\"\"\"\n",
    "    df_decomposed = pd.DataFrame(index=df.index)\n",
    "    for col in df.columns:\n",
    "        df_decomposed[f\"{col}_pos\"] = df[col].apply(lambda x: x if x > 0 else 0)\n",
    "        df_decomposed[f\"{col}_neg\"] = df[col].apply(lambda x: x if x < 0 else 0)\n",
    "    return df_decomposed\n",
    "\n",
    "\n",
    "# Decompose combined returns\n",
    "decomposed_returns = decompose_returns(combined_returns);\n",
    "\n",
    "# Initialize analyzer for decomposed returns\n",
    "asymmetric_analyzer = GrangerCausalityAnalyzer(decomposed_returns, max_lags=10)\n",
    "\n",
    "# Run pairwise causality analysis on decomposed returns\n",
    "asymmetric_pairwise_results = asymmetric_analyzer.run_pairwise_causality()\n",
    "\n",
    "# Filter for significant asymmetric relationships\n",
    "significant_asymmetric_results = asymmetric_pairwise_results[\n",
    "    asymmetric_pairwise_results[\"significant\"]\n",
    "].copy()\n",
    "\n",
    "# Display results\n",
    "print(\"\\nAsymmetric Granger Causality Results (Significant at 5%):\")\n",
    "print(significant_asymmetric_results)"
   ]
  },
  {
   "cell_type": "markdown",
   "id": "f35d5022",
   "metadata": {
    "lines_to_next_cell": 2
   },
   "source": [
    "### Summarizing Asymmetric Relationships\n",
    "We can further analyze these results to identify clear asymmetric patterns."
   ]
  },
  {
   "cell_type": "code",
   "execution_count": null,
   "id": "93f78c5b",
   "metadata": {},
   "outputs": [],
   "source": [
    "def summarize_asymmetry(asymmetric_results: pd.DataFrame) -> pd.DataFrame:\n",
    "    summary_list = []\n",
    "    # Iterate through original crypto pairs\n",
    "    for col1 in combined_returns.columns:\n",
    "        for col2 in combined_returns.columns:\n",
    "            if col1 == col2:\n",
    "                continue\n",
    "\n",
    "            # Check positive -> positive\n",
    "            pos_pos = asymmetric_results[\n",
    "                (asymmetric_results[\"cause\"] == f\"{col1}_pos\")\n",
    "                & (asymmetric_results[\"effect\"] == f\"{col2}_pos\")\n",
    "            ]\n",
    "            # Check negative -> negative\n",
    "            neg_neg = asymmetric_results[\n",
    "                (asymmetric_results[\"cause\"] == f\"{col1}_neg\")\n",
    "                & (asymmetric_results[\"effect\"] == f\"{col2}_neg\")\n",
    "            ]\n",
    "            # Check positive -> negative\n",
    "            pos_neg = asymmetric_results[\n",
    "                (asymmetric_results[\"cause\"] == f\"{col1}_pos\")\n",
    "                & (asymmetric_results[\"effect\"] == f\"{col2}_neg\")\n",
    "            ]\n",
    "            # Check negative -> positive\n",
    "            neg_pos = asymmetric_results[\n",
    "                (asymmetric_results[\"cause\"] == f\"{col1}_neg\")\n",
    "                & (asymmetric_results[\"effect\"] == f\"{col2}_pos\")\n",
    "            ]\n",
    "\n",
    "            # Example: A_pos causes B_neg, but A_neg does not cause B_pos\n",
    "            if not pos_pos.empty and neg_neg.empty:\n",
    "                summary_list.append(\n",
    "                    {\n",
    "                        \"Cause\": col1,\n",
    "                        \"Effect\": col2,\n",
    "                        \"Type\": \"Positive to Positive (but not Negative to Negative)\",\n",
    "                        \"P-Value\": pos_pos[\"min_p_value\"].iloc[0],\n",
    "                    }\n",
    "                )\n",
    "            if pos_pos.empty and not neg_neg.empty:\n",
    "                summary_list.append(\n",
    "                    {\n",
    "                        \"Cause\": col1,\n",
    "                        \"Effect\": col2,\n",
    "                        \"Type\": \"Negative to Negative (but not Positive to Positive)\",\n",
    "                        \"P-Value\": neg_neg[\"min_p_value\"].iloc[0],\n",
    "                    }\n",
    "                )\n",
    "            if not pos_neg.empty and neg_pos.empty:\n",
    "                summary_list.append(\n",
    "                    {\n",
    "                        \"Cause\": col1,\n",
    "                        \"Effect\": col2,\n",
    "                        \"Type\": \"Positive to Negative (but not Negative to Positive)\",\n",
    "                        \"P-Value\": pos_neg[\"min_p_value\"].iloc[0],\n",
    "                    }\n",
    "                )\n",
    "            if pos_neg.empty and not neg_pos.empty:\n",
    "                summary_list.append(\n",
    "                    {\n",
    "                        \"Cause\": col1,\n",
    "                        \"Effect\": col2,\n",
    "                        \"Type\": \"Negative to Positive (but not Positive to Negative)\",\n",
    "                        \"P-Value\": neg_pos[\"min_p_value\"].iloc[0],\n",
    "                    }\n",
    "                )\n",
    "\n",
    "    return pd.DataFrame(summary_list)\n",
    "\n",
    "asymmetric_summary = summarize_asymmetry(significant_asymmetric_results)\n",
    "print(\"\\nSummary of Asymmetric Causal Relationships:\")\n",
    "print(asymmetric_summary)"
   ]
  },
  {
   "cell_type": "markdown",
   "id": "f7404c44",
   "metadata": {},
   "source": [
    "## Conclusion\n",
    "This script had demonstrated how to perform a comprehensive causality analysis between\n",
    "crypto currencies. Some elements may require running offline due to time constraints.\n",
    "The analysis included:\n",
    "* Pairwise Granger causality tests to identify significant causal relationships\n",
    "* Multivariate Granger causality to assess the joint influence of multiple\n",
    "cryptocurrencies\n",
    "* Time-varying Granger causality to analyze the stability of relationships over time\n",
    "\n",
    "The primary conclusion of this is that there are significant causal relationships\n",
    "between cryptocurrencies from the higher liquidity ones to the lower liquidity ones,\n",
    "but that these change in time (as alt-coins become more liquid). This exploration\n",
    "feeds into the broader goal of finding suitable features for predicting movements in\n",
    "cryptocurrencies, which is a key part of developing trading strategies."
   ]
  },
  {
   "cell_type": "markdown",
   "id": "fdf79a5f",
   "metadata": {},
   "source": [
    "## Further References\n",
    "### Reading\n",
    "* [Firoozye Linktree](https://linktr.ee/nbfiroozye)\n",
    "* [Github](www.github.com/firoozye)\n",
    "* [Blog](https://firoozye.github.io/)\n",
    "\n",
    "### Classes (at WBS Training)\n",
    "* [Fundamentals of Algo Trading](https://rebrand.ly/ndzrcki)\n",
    "* [Algorithmic Trading Certificate](https://rebrand.ly/cbadu1x)\n"
   ]
  }
 ],
 "metadata": {
  "jupytext": {
   "cell_metadata_filter": "-all",
   "main_language": "python",
   "notebook_metadata_filter": "-all"
  },
  "kernelspec": {
   "display_name": "Python 3 (ipykernel)",
   "language": "python",
   "name": "python3"
  },
  "language_info": {
   "codemirror_mode": {
    "name": "ipython",
    "version": 3
   },
   "file_extension": ".py",
   "mimetype": "text/x-python",
   "name": "python",
   "nbconvert_exporter": "python",
   "pygments_lexer": "ipython3",
   "version": "3.12.3"
  }
 },
 "nbformat": 4,
 "nbformat_minor": 5
}
