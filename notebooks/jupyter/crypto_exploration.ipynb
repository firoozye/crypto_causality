{
 "cells": [
  {
   "cell_type": "markdown",
   "id": "48de1fb0",
   "metadata": {},
   "source": [
    "# First Exploratory Data Analysis of Crypto Data\n",
    "\n",
    "## Plotting\n",
    "* Plot data\n",
    "* Plot Correlations\n",
    "* ACFs and PACFs\n",
    "* Summary Statistics\n",
    "\n",
    "## Goal: All things needed for a pre-causal analysis"
   ]
  },
  {
   "cell_type": "code",
   "execution_count": null,
   "id": "767e7d6b",
   "metadata": {},
   "outputs": [],
   "source": [
    "import pandas as pd\n",
    "import numpy as np\n",
    "import matplotlib.pyplot as plt\n",
    "import seaborn as sns\n",
    "from statsmodels.tsa.stattools import acf, pacf\n",
    "from statsmodels.tsa.stattools import ccf\n",
    "import itertools\n",
    "import glob\n",
    "import os\n",
    "import pyarrow.parquet as pq\n",
    "\n",
    "# Set style for better visualizations\n",
    "sns.set_theme()\n",
    "sns.set_palette(\"husl\")\n",
    "plt.rcParams['figure.figsize'] = [12, 6]"
   ]
  },
  {
   "cell_type": "markdown",
   "id": "edc64552",
   "metadata": {
    "lines_to_next_cell": 2
   },
   "source": [
    "## Multiple Y-Axes Approach"
   ]
  },
  {
   "cell_type": "code",
   "execution_count": null,
   "id": "0dfb39e2",
   "metadata": {},
   "outputs": [],
   "source": [
    "def plot_multiple_y_axes(crypto_data):\n",
    "    # Create figure and primary axis\n",
    "    fig, ax1 = plt.subplots(figsize=(15, 8))\n",
    "\n",
    "    # Create additional axes that share the same x-axis\n",
    "    axes = [ax1]\n",
    "    for i in range(len(crypto_data) - 1):\n",
    "        axes.append(ax1.twinx())\n",
    "\n",
    "    # Offset the right spine of each additional axis\n",
    "    # This creates space between the y-axes\n",
    "    for i, ax in enumerate(axes[2:], start=2):\n",
    "        ax.spines['right'].set_position(('outward', 60 * (i - 1)))\n",
    "\n",
    "    # Plot each cryptocurrency on its own y-axis\n",
    "    colors = plt.cm.husl(np.linspace(0, 1, len(crypto_data)))\n",
    "    for (symbol, df), ax, color in zip(crypto_data.items(), axes, colors):\n",
    "        line = ax.plot(df['timestamp'], df['close'], label=symbol, color=color)\n",
    "        ax.set_ylabel(f'{symbol} Price (USDT)', color=color)\n",
    "        ax.tick_params(axis='y', labelcolor=color)\n",
    "\n",
    "    # Add title and adjust layout\n",
    "    plt.title('Cryptocurrency Prices (Multiple Y-Axes)')\n",
    "    ax1.set_xlabel('Time')\n",
    "\n",
    "    # Create combined legend\n",
    "    lines = []\n",
    "    labels = []\n",
    "    for ax in axes:\n",
    "        ax_line, ax_label = ax.get_legend_handles_labels()\n",
    "        lines.extend(ax_line)\n",
    "        labels.extend(ax_label)\n",
    "\n",
    "    plt.legend(lines, labels, loc='upper left', bbox_to_anchor=(1.15, 1))\n",
    "    plt.tight_layout()\n",
    "    plt.show()"
   ]
  },
  {
   "cell_type": "markdown",
   "id": "58a929db",
   "metadata": {
    "lines_to_next_cell": 2
   },
   "source": [
    "## Subplot Grid Approach"
   ]
  },
  {
   "cell_type": "code",
   "execution_count": null,
   "id": "abc1c4f9",
   "metadata": {
    "lines_to_next_cell": 2
   },
   "outputs": [],
   "source": [
    "def plot_subplot_grid(crypto_data):\n",
    "    # Calculate grid dimensions\n",
    "    n_plots = len(crypto_data)\n",
    "    n_cols = 2  # You can adjust this\n",
    "    n_rows = (n_plots + n_cols - 1) // n_cols\n",
    "\n",
    "    # Create subplot grid\n",
    "    fig, axes = plt.subplots(n_rows, n_cols, figsize=(15, 4 * n_rows))\n",
    "    fig.suptitle('Cryptocurrency Prices', fontsize=16, y=1.02)\n",
    "\n",
    "    # Flatten axes array for easier iteration\n",
    "    if n_rows > 1:\n",
    "        axes_flat = axes.flatten()\n",
    "    else:\n",
    "        axes_flat = [axes] if n_cols == 1 else axes\n",
    "\n",
    "    # Plot each cryptocurrency\n",
    "    for (symbol, df), ax in zip(crypto_data.items(), axes_flat):\n",
    "        ax.plot(df['timestamp'], df['close'], label=symbol)\n",
    "        ax.set_title(f'{symbol} Price')\n",
    "        ax.set_xlabel('Time')\n",
    "        ax.set_ylabel('Price (USDT)')\n",
    "        ax.tick_params(axis='x', rotation=45)\n",
    "        ax.legend()\n",
    "\n",
    "    # Remove any empty subplots\n",
    "    for idx in range(len(crypto_data), len(axes_flat)):\n",
    "        fig.delaxes(axes_flat[idx])\n",
    "\n",
    "    plt.tight_layout()\n",
    "    plt.show()"
   ]
  },
  {
   "cell_type": "markdown",
   "id": "e1b392e6",
   "metadata": {
    "lines_to_next_cell": 2
   },
   "source": [
    "## Data Loading\n",
    "First, let's load our data files containing the cryptocurrency data."
   ]
  },
  {
   "cell_type": "code",
   "execution_count": null,
   "id": "836e68e5",
   "metadata": {},
   "outputs": [],
   "source": [
    "def load_all_crypto_data(data_dir=\"../../data/processed/\"):\n",
    "    all_data = {}\n",
    "    for file in glob.glob(os.path.join(data_dir, \"*.parquet\")):\n",
    "        symbol = os.path.basename(file).split('_')[0]\n",
    "        # Get symbol from filename\n",
    "        print(f\"Loading {file}...\")\n",
    "        df = pq.read_table(file).to_pandas()\n",
    "        all_data[symbol] = df\n",
    "    return all_data"
   ]
  },
  {
   "cell_type": "markdown",
   "id": "0753c07c",
   "metadata": {
    "lines_to_next_cell": 2
   },
   "source": [
    " Additional Analysis: Summary Statistics\n",
    "\n",
    "Load the data\n",
    "crypto_data = load_all_crypto_data()\n",
    "\n",
    "Debug data loading\n",
    "print(\"\\nLoaded symbols:\", list(crypto_data.keys()))\n",
    "for symbol, df in crypto_data.items():\n",
    "    print(f\"\\nShape of {symbol} data: \", df.shape)\n",
    "    print(f\"Columns: \", df.columns.tolist())\n",
    "    print(f\"Sample of {symbol} data: \")\n",
    "    print(df[['timestamp', 'close']].head())"
   ]
  },
  {
   "cell_type": "code",
   "execution_count": null,
   "id": "48488543",
   "metadata": {},
   "outputs": [],
   "source": [
    "# Plot both versions\n",
    "print(\"Plotting multiple y-axes version...\")\n",
    "plot_multiple_y_axes(crypto_data)"
   ]
  },
  {
   "cell_type": "code",
   "execution_count": null,
   "id": "ee0d4ea3",
   "metadata": {},
   "outputs": [],
   "source": [
    "print(\"\\nPlotting subplot grid version...\")\n",
    "plot_subplot_grid(crypto_data)\n",
    "\n"
   ]
  },
  {
   "cell_type": "code",
   "execution_count": null,
   "id": "fc357b8d",
   "metadata": {},
   "outputs": [],
   "source": [
    "# 2. Returns Calculation and Correlation Analysis\n",
    "# Calculate returns for each crypto\n",
    "returns_data = {}\n",
    "for symbol, df in crypto_data.items():\n",
    "    returns = pd.DataFrame()\n",
    "    returns['timestamp'] = df['timestamp']\n",
    "    returns['returns'] = np.log(df['close'].astype(float)).diff()\n",
    "    returns_data[symbol] = returns"
   ]
  },
  {
   "cell_type": "code",
   "execution_count": null,
   "id": "6a8bbfc8",
   "metadata": {},
   "outputs": [],
   "source": [
    "# Create a combined returns dataframe\n",
    "combined_returns = pd.DataFrame()\n",
    "for symbol, returns in returns_data.items():\n",
    "    combined_returns[symbol] = returns['returns']\n",
    "combined_returns.index = list(returns_data.values())[0]['timestamp']"
   ]
  },
  {
   "cell_type": "code",
   "execution_count": null,
   "id": "2e26e2cd",
   "metadata": {
    "lines_to_next_cell": 1
   },
   "outputs": [],
   "source": [
    "# Plot correlation heatmap of log returns\n",
    "plt.figure(figsize=(12, 8))\n",
    "sns.heatmap(\n",
    "    combined_returns.corr(),\n",
    "    annot=True,\n",
    "    cmap='RdYlBu',\n",
    "    center=0,\n",
    "    fmt='.2f'\n",
    ")\n",
    "plt.title('Correlation Heatmap of Crypto Returns')\n",
    "plt.tight_layout()\n",
    "plt.show()"
   ]
  },
  {
   "cell_type": "markdown",
   "id": "1300fe33",
   "metadata": {},
   "source": [
    "## ACF and PACF Analysis\n",
    "Analyze the autocorrelation and partial autocorrelation\n",
    "functions for each cryptocurrency."
   ]
  },
  {
   "cell_type": "code",
   "execution_count": null,
   "id": "e1a778cd",
   "metadata": {
    "lines_to_next_cell": 1
   },
   "outputs": [],
   "source": [
    "def plot_acf_pacf(series, symbol, lags=50):\n",
    "    fig, (ax1, ax2) = plt.subplots(2, 1, figsize=(15, 10))\n",
    "\n",
    "    # ACF\n",
    "    acf_values = acf(series.dropna(), nlags=lags)\n",
    "    ax1.stem(range(len(acf_values)), acf_values)\n",
    "    ax1.axhline(y=0, linestyle='-', color='black')\n",
    "    ax1.axhline(y=-1.96 / np.sqrt(len(series)), linestyle='--', color='gray')\n",
    "    ax1.axhline(y=1.96 / np.sqrt(len(series)), linestyle='--', color='gray')\n",
    "    ax1.set_title(f'Autocorrelation Function for {symbol}')\n",
    "\n",
    "    # PACF\n",
    "    pacf_values = pacf(series.dropna(), nlags=lags)\n",
    "    ax2.stem(range(len(pacf_values)), pacf_values)\n",
    "    ax2.axhline(y=0, linestyle='-', color='black')\n",
    "    ax2.axhline(y=-1.96 / np.sqrt(len(series)), linestyle='--', color='gray')\n",
    "    ax2.axhline(y=1.96 / np.sqrt(len(series)), linestyle='--', color='gray')\n",
    "    ax2.set_title(f'Partial Autocorrelation Function for {symbol}')\n",
    "\n",
    "    plt.tight_layout()\n",
    "    plt.show()"
   ]
  },
  {
   "cell_type": "code",
   "execution_count": null,
   "id": "6b65dfa9",
   "metadata": {
    "lines_to_next_cell": 1
   },
   "outputs": [],
   "source": [
    "# Plot ACF and PACF for each crypto\n",
    "for symbol in returns_data.keys():\n",
    "    print(f\"\\nAnalyzing {symbol}\")\n",
    "    plot_acf_pacf(returns_data[symbol]['returns'], symbol)"
   ]
  },
  {
   "cell_type": "markdown",
   "id": "fe6e8549",
   "metadata": {
    "lines_to_next_cell": 0
   },
   "source": [
    "## Cross-Correlation Analysis\n",
    "Let's analyze the lead-lag relationships between different cryptocurrency pairs\n",
    "using cross-correlation functions. This will help us understand if price movements\n",
    "in one crypto tend to lead or lag another.\n"
   ]
  },
  {
   "cell_type": "code",
   "execution_count": null,
   "id": "bef34e74",
   "metadata": {
    "lines_to_next_cell": 1
   },
   "outputs": [],
   "source": [
    "def plot_ccf(series1, series2, name1, name2, lags=50):\n",
    "    ccf_values = ccf(series1.dropna(), series2.dropna(), adjusted=False)\n",
    "\n",
    "    # Plot CCF\n",
    "    plt.figure(figsize=(15, 5))\n",
    "    plt.stem(range(-lags, lags + 1), ccf_values[lags - lags:lags + lags + 1])\n",
    "    plt.axhline(y=0, linestyle='-', color='black')\n",
    "    plt.axhline(y=-1.96 / np.sqrt(len(series1)), linestyle='--', color='gray')\n",
    "    plt.axhline(y=1.96 / np.sqrt(len(series1)), linestyle='--', color='gray')\n",
    "    plt.title(f'Cross-Correlation Function: {name1} vs {name2}')\n",
    "    plt.xlabel('Lag')\n",
    "    plt.ylabel('CCF')\n",
    "    plt.tight_layout()\n",
    "    plt.show()\n",
    "\n",
    "    # Find significant lags\n",
    "    threshold = 1.96 / np.sqrt(len(series1))\n",
    "    significant_lags = np.where(np.abs(ccf_values) > threshold)[0] - lags\n",
    "    if len(significant_lags) > 0:\n",
    "        print(f\"Significant lags between {name1} and {name2}:\")\n",
    "        for lag in significant_lags:\n",
    "            if lag < 0:\n",
    "                print(\n",
    "                    f\"{name2} leads {name1} by {abs(lag)} periods \"\n",
    "                    f\"(correlation: {ccf_values[lag + lags]:.3f})\"\n",
    "                )\n",
    "            elif lag > 0:\n",
    "                print(\n",
    "                    f\"{name1} leads {name2} by {lag} periods \"\n",
    "                    f\"(correlation: {ccf_values[lag + lags]:.3f})\"\n",
    "                )"
   ]
  },
  {
   "cell_type": "code",
   "execution_count": null,
   "id": "c182e1dc",
   "metadata": {
    "lines_to_next_cell": 1
   },
   "outputs": [],
   "source": [
    "# Get all unique pairs of cryptocurrencies\n",
    "crypto_pairs = list(itertools.combinations(returns_data.keys(), 2))\n",
    "\n",
    "# Plot CCF for each pair\n",
    "for pair in crypto_pairs:\n",
    "    symbol1, symbol2 = pair\n",
    "    print(f\"\\nAnalyzing cross-correlation between {symbol1} and {symbol2}\")\n",
    "    plot_ccf(\n",
    "        returns_data[symbol1]['returns'],\n",
    "        returns_data[symbol2]['returns'],\n",
    "        symbol1,\n",
    "        symbol2\n",
    "    )"
   ]
  },
  {
   "cell_type": "markdown",
   "id": "2e9fa888",
   "metadata": {},
   "source": [
    "## ACF Analysis with Confidence Intervals\n",
    "Let's look at the autocorrelation structure of each cryptocurrency's returns,\n",
    "including confidence intervals to identify significant correlations."
   ]
  },
  {
   "cell_type": "code",
   "execution_count": null,
   "id": "26e92b0a",
   "metadata": {
    "lines_to_next_cell": 1
   },
   "outputs": [],
   "source": [
    "def plot_detailed_acf(series, symbol, lags=50):\n",
    "    # Calculate ACF with confidence intervals\n",
    "    acf_values, confint = acf(series.dropna(), nlags=lags, alpha=0.05, fft=False)\n",
    "\n",
    "    plt.figure(figsize=(15, 5))\n",
    "    plt.stem(range(len(acf_values)), acf_values)\n",
    "    plt.axhline(y=0, linestyle='-', color='black')\n",
    "\n",
    "    # Plot confidence intervals\n",
    "    plt.fill_between(\n",
    "        range(len(acf_values)),\n",
    "        confint[:, 0],\n",
    "        confint[:, 1],\n",
    "        alpha=0.1,\n",
    "        color='blue'\n",
    "    )\n",
    "\n",
    "    plt.title(f'Autocorrelation Function for {symbol}')\n",
    "    plt.xlabel('Lag')\n",
    "    plt.ylabel('ACF')\n",
    "    plt.tight_layout()\n",
    "    plt.show()\n",
    "\n",
    "    # Print significant lags\n",
    "    significant_lags = np.where(\n",
    "        (acf_values < confint[:, 0]) |\n",
    "        (acf_values > confint[:, 1])\n",
    "    )[0]\n",
    "    if len(significant_lags) > 0:\n",
    "        print(f\"\\nSignificant autocorrelations for {symbol}:\")\n",
    "        for lag in significant_lags:\n",
    "            print(f\"Lag {lag}: {acf_values[lag]:.3f}\")"
   ]
  },
  {
   "cell_type": "code",
   "execution_count": null,
   "id": "ecc4ca89",
   "metadata": {
    "lines_to_next_cell": 1
   },
   "outputs": [],
   "source": [
    "# Plot ACF for each cryptocurrency\n",
    "for symbol, returns in returns_data.items():\n",
    "    print(f\"\\nAnalyzing autocorrelation for {symbol}\")\n",
    "    plot_detailed_acf(returns['returns'], symbol)"
   ]
  },
  {
   "cell_type": "markdown",
   "id": "72441085",
   "metadata": {},
   "source": [
    "## Summary of Lead-Lag Relationships\n",
    "Let's create a summary table of the strongest lead-lag relationships found."
   ]
  },
  {
   "cell_type": "code",
   "execution_count": null,
   "id": "3e22eabe",
   "metadata": {
    "lines_to_next_cell": 1
   },
   "outputs": [],
   "source": [
    "def create_lead_lag_summary(returns_data, lags=50):\n",
    "    summary_data = []\n",
    "\n",
    "    for pair in itertools.combinations(returns_data.keys(), 2):\n",
    "        symbol1, symbol2 = pair\n",
    "        ccf_values = ccf(\n",
    "            returns_data[symbol1]['returns'].dropna(),\n",
    "            returns_data[symbol2]['returns'].dropna(),\n",
    "            adjusted=False\n",
    "        )\n",
    "\n",
    "        # Find max correlation and corresponding lag\n",
    "        max_corr_idx = np.argmax(np.abs(ccf_values))\n",
    "        max_corr = ccf_values[max_corr_idx]\n",
    "        max_lag = max_corr_idx - lags\n",
    "\n",
    "        if max_lag < 0:\n",
    "            leader = symbol2\n",
    "            lagger = symbol1\n",
    "            lag = abs(max_lag)\n",
    "        else:\n",
    "            leader = symbol1\n",
    "            lagger = symbol2\n",
    "            lag = max_lag\n",
    "\n",
    "        summary_data.append({\n",
    "            'Leader': leader,\n",
    "            'Lagger': lagger,\n",
    "            'Lag (minutes)': lag,\n",
    "            'Correlation': max_corr\n",
    "        })\n",
    "\n",
    "    summary_df = pd.DataFrame(summary_data)\n",
    "    return summary_df.sort_values('Correlation', key=abs, ascending=False)"
   ]
  },
  {
   "cell_type": "code",
   "execution_count": null,
   "id": "c4b92378",
   "metadata": {},
   "outputs": [],
   "source": [
    "summary_df = create_lead_lag_summary(returns_data)\n",
    "print(\"Summary of Strongest Lead-Lag Relationships:\")\n",
    "print(summary_df)"
   ]
  },
  {
   "cell_type": "markdown",
   "id": "4273094a",
   "metadata": {},
   "source": [
    "## Summary Statistics and Volatility Analysis"
   ]
  },
  {
   "cell_type": "code",
   "execution_count": null,
   "id": "486fe9fc",
   "metadata": {},
   "outputs": [],
   "source": [
    "# Summary Statistics\n",
    "summary_stats = pd.DataFrame()\n",
    "for symbol, returns in returns_data.items():\n",
    "    stats = returns['returns'].describe()\n",
    "    stats['skewness'] = returns['returns'].skew()\n",
    "    stats['kurtosis'] = returns['returns'].kurtosis()\n",
    "    summary_stats[symbol] = stats\n",
    "\n",
    "print(\"\\nSummary Statistics for Returns:\")\n",
    "print(summary_stats)"
   ]
  },
  {
   "cell_type": "code",
   "execution_count": null,
   "id": "d9c4d4c8",
   "metadata": {},
   "outputs": [],
   "source": [
    "# Volatility Analysis\n",
    "# Calculate rolling volatility (30-minute window)\n",
    "plt.figure(figsize=(15, 10))\n",
    "for symbol, returns in returns_data.items():\n",
    "    vol = returns['returns'].rolling(window=30).std() * np.sqrt(30)\n",
    "    plt.plot(returns['timestamp'], vol, label=symbol)\n",
    "\n",
    "plt.title('30-Minute Rolling Volatility')\n",
    "plt.xlabel('Time')\n",
    "plt.ylabel('Annualized Volatility')\n",
    "plt.legend()\n",
    "plt.xticks(rotation=45)\n",
    "plt.tight_layout()\n",
    "plt.show()"
   ]
  },
  {
   "cell_type": "markdown",
   "id": "07fd4136",
   "metadata": {},
   "source": [
    "## Analysis\n",
    "* We have successfully loaded and analyzed the cryptocurrency data.\n",
    "* We visualized the price data using multiple y-axes and subplot grid approaches.\n",
    "* Calculated log returns and analyzed their correlations.\n",
    "* The Data are clearly non-stationary. This means that we should look at returns\n",
    "  instead of prices, before doing Granger causality tests"
   ]
  }
 ],
 "metadata": {
  "jupytext": {
   "cell_metadata_filter": "-all",
   "main_language": "python",
   "notebook_metadata_filter": "-all"
  }
 },
 "nbformat": 4,
 "nbformat_minor": 5
}
