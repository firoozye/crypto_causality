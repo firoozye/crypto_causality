{
 "cells": [
  {
   "cell_type": "markdown",
   "id": "e093ec78",
   "metadata": {},
   "source": [
    "# First Exploratory Data Analysis of Crypto Data\n",
    "\n",
    "## Plotting\n",
    "* Plot data\n",
    "* Plot Correlations\n",
    "* ACFs and PACFs\n",
    "* Summary Statistics\n",
    "\n",
    "## Goal: All things needed for a pre-causal analysis"
   ]
  },
  {
   "cell_type": "code",
   "execution_count": 1,
   "id": "363b9722",
   "metadata": {},
   "outputs": [],
   "source": [
    "import pandas as pd\n",
    "import numpy as np\n",
    "import matplotlib.pyplot as plt\n",
    "import seaborn as sns\n",
    "from statsmodels.tsa.stattools import acf, pacf\n",
    "from statsmodels.tsa.stattools import ccf\n",
    "import itertools\n",
    "import glob\n",
    "import os\n",
    "import pyarrow.parquet as pq\n",
    "\n",
    "# Set style for better visualizations\n",
    "sns.set_theme()\n",
    "sns.set_palette(\"husl\")\n",
    "plt.rcParams['figure.figsize'] = [12, 6]"
   ]
  },
  {
   "cell_type": "markdown",
   "id": "b2610d0a",
   "metadata": {
    "lines_to_next_cell": 2
   },
   "source": [
    "## Multiple Y-Axes Approach"
   ]
  },
  {
   "cell_type": "code",
   "execution_count": 2,
   "id": "0da44f11",
   "metadata": {},
   "outputs": [],
   "source": [
    "def plot_multiple_y_axes(crypto_data):\n",
    "    # Create figure and primary axis\n",
    "    fig, ax1 = plt.subplots(figsize=(15, 8))\n",
    "\n",
    "    # Create additional axes that share the same x-axis\n",
    "    axes = [ax1]\n",
    "    for i in range(len(crypto_data) - 1):\n",
    "        axes.append(ax1.twinx())\n",
    "\n",
    "    # Offset the right spine of each additional axis\n",
    "    # This creates space between the y-axes\n",
    "    for i, ax in enumerate(axes[2:], start=2):\n",
    "        ax.spines['right'].set_position(('outward', 60 * (i - 1)))\n",
    "\n",
    "    # Plot each cryptocurrency on its own y-axis\n",
    "    colors = plt.cm.husl(np.linspace(0, 1, len(crypto_data)))\n",
    "    for (symbol, df), ax, color in zip(crypto_data.items(), axes, colors):\n",
    "        line = ax.plot(df['timestamp'], df['close'], label=symbol, color=color)\n",
    "        ax.set_ylabel(f'{symbol} Price (USDT)', color=color)\n",
    "        ax.tick_params(axis='y', labelcolor=color)\n",
    "\n",
    "    # Add title and adjust layout\n",
    "    plt.title('Cryptocurrency Prices (Multiple Y-Axes)')\n",
    "    ax1.set_xlabel('Time')\n",
    "\n",
    "    # Create combined legend\n",
    "    lines = []\n",
    "    labels = []\n",
    "    for ax in axes:\n",
    "        ax_line, ax_label = ax.get_legend_handles_labels()\n",
    "        lines.extend(ax_line)\n",
    "        labels.extend(ax_label)\n",
    "\n",
    "    plt.legend(lines, labels, loc='upper left', bbox_to_anchor=(1.15, 1))\n",
    "    plt.tight_layout()\n",
    "    plt.show()"
   ]
  },
  {
   "cell_type": "markdown",
   "id": "2b3b949a",
   "metadata": {
    "lines_to_next_cell": 2
   },
   "source": [
    "## Subplot Grid Approach"
   ]
  },
  {
   "cell_type": "code",
   "execution_count": 3,
   "id": "608ee1c2",
   "metadata": {
    "lines_to_next_cell": 2
   },
   "outputs": [],
   "source": [
    "def plot_subplot_grid(crypto_data):\n",
    "    # Calculate grid dimensions\n",
    "    n_plots = len(crypto_data)\n",
    "    n_cols = 2  # You can adjust this\n",
    "    n_rows = (n_plots + n_cols - 1) // n_cols\n",
    "\n",
    "    # Create subplot grid\n",
    "    fig, axes = plt.subplots(n_rows, n_cols, figsize=(15, 4 * n_rows))\n",
    "    fig.suptitle('Cryptocurrency Prices', fontsize=16, y=1.02)\n",
    "\n",
    "    # Flatten axes array for easier iteration\n",
    "    if n_rows > 1:\n",
    "        axes_flat = axes.flatten()\n",
    "    else:\n",
    "        axes_flat = [axes] if n_cols == 1 else axes\n",
    "\n",
    "    # Plot each cryptocurrency\n",
    "    for (symbol, df), ax in zip(crypto_data.items(), axes_flat):\n",
    "        ax.plot(df['timestamp'], df['close'], label=symbol)\n",
    "        ax.set_title(f'{symbol} Price')\n",
    "        ax.set_xlabel('Time')\n",
    "        ax.set_ylabel('Price (USDT)')\n",
    "        ax.tick_params(axis='x', rotation=45)\n",
    "        ax.legend()\n",
    "\n",
    "    # Remove any empty subplots\n",
    "    for idx in range(len(crypto_data), len(axes_flat)):\n",
    "        fig.delaxes(axes_flat[idx])\n",
    "\n",
    "    plt.tight_layout()\n",
    "    plt.show()"
   ]
  },
  {
   "cell_type": "markdown",
   "id": "e2346198",
   "metadata": {
    "lines_to_next_cell": 2
   },
   "source": [
    "## Data Loading\n",
    "First, let's load our data files containing the cryptocurrency data."
   ]
  },
  {
   "cell_type": "code",
   "execution_count": 4,
   "id": "d0c86624",
   "metadata": {},
   "outputs": [],
   "source": [
    "def load_all_crypto_data(data_dir=\"../../data/processed/\"):\n",
    "    all_data = {}\n",
    "    for file in glob.glob(os.path.join(data_dir, \"*.parquet\")):\n",
    "        symbol = os.path.basename(file).split('_')[0]\n",
    "        # Get symbol from filename\n",
    "        print(f\"Loading {file}...\")\n",
    "        df = pq.read_table(file).to_pandas()\n",
    "        all_data[symbol] = df\n",
    "    return all_data"
   ]
  },
  {
   "cell_type": "markdown",
   "id": "e1945a5e",
   "metadata": {
    "lines_to_next_cell": 2
   },
   "source": [
    " Additional Analysis: Summary Statistics\n",
    "\n",
    "Load the data\n",
    "crypto_data = load_all_crypto_data()\n",
    "\n",
    "Debug data loading\n",
    "print(\"\\nLoaded symbols:\", list(crypto_data.keys()))\n",
    "for symbol, df in crypto_data.items():\n",
    "    print(f\"\\nShape of {symbol} data: \", df.shape)\n",
    "    print(f\"Columns: \", df.columns.tolist()\n",
    "    print(f\"Sample of {symbol} data: \")\n",
    "    print(df[['timestamp', 'close']].head())"
   ]
  },
  {
   "cell_type": "code",
   "execution_count": 6,
   "id": "901338c2-3ade-4f71-9391-525a73acda0f",
   "metadata": {},
   "outputs": [
    {
     "name": "stdout",
     "output_type": "stream",
     "text": [
      "Loading ../../data/processed/SOLUSDT_1m_2024-01-01_2024-02-01.parquet...\n",
      "Loading ../../data/processed/BNBUSDT_1d_2024-01-01_2024-02-01.parquet...\n",
      "Loading ../../data/processed/ADAUSDT_1m_2024-01-01_2024-02-01.parquet...\n",
      "Loading ../../data/processed/BTCUSDT_1d_2024-01-01_2024-02-01.parquet...\n",
      "Loading ../../data/processed/BTCUSDT_1m_2024-01-01_2024-02-01.parquet...\n",
      "Loading ../../data/processed/DOGEUSDT_1d_2024-01-01_2024-02-01.parquet...\n",
      "Loading ../../data/processed/ADAUSDT_1d_2024-01-01_2024-02-01.parquet...\n",
      "Loading ../../data/processed/DOGEUSDT_1m_2024-01-01_2024-02-01.parquet...\n",
      "Loading ../../data/processed/XRPUSDT_1d_2024-01-01_2024-02-01.parquet...\n",
      "Loading ../../data/processed/XRPUSDT_1m_2024-01-01_2024-02-01.parquet...\n",
      "Loading ../../data/processed/ETHUSDT_1d_2024-01-01_2024-02-01.parquet...\n",
      "Loading ../../data/processed/BNBUSDT_1m_2024-01-01_2024-02-01.parquet...\n",
      "Loading ../../data/processed/ETHUSDT_1m_2024-01-01_2024-02-01.parquet...\n",
      "\n",
      "Loaded symbols: ['SOLUSDT', 'BNBUSDT', 'ADAUSDT', 'BTCUSDT', 'DOGEUSDT', 'XRPUSDT', 'ETHUSDT']\n",
      "\n",
      "Shape of SOLUSDT data:  (44641, 13)\n",
      "Columns:  ['timestamp', 'open', 'high', 'low', 'close', 'volume', 'close_time', 'quote_asset_volume', 'number_of_trades', 'taker_buy_base_volume', 'taker_buy_quote_volume', 'ignore', 'symbol']\n",
      "Sample of SOLUSDT data: \n",
      "            timestamp   close\n",
      "0 2024-01-01 00:00:00  101.72\n",
      "1 2024-01-01 00:01:00  101.88\n",
      "2 2024-01-01 00:02:00  102.13\n",
      "3 2024-01-01 00:03:00  102.27\n",
      "4 2024-01-01 00:04:00  102.31\n",
      "\n",
      "Shape of BNBUSDT data:  (44641, 13)\n",
      "Columns:  ['timestamp', 'open', 'high', 'low', 'close', 'volume', 'close_time', 'quote_asset_volume', 'number_of_trades', 'taker_buy_base_volume', 'taker_buy_quote_volume', 'ignore', 'symbol']\n",
      "Sample of BNBUSDT data: \n",
      "            timestamp  close\n",
      "0 2024-01-01 00:00:00  312.1\n",
      "1 2024-01-01 00:01:00  312.4\n",
      "2 2024-01-01 00:02:00  312.8\n",
      "3 2024-01-01 00:03:00  312.9\n",
      "4 2024-01-01 00:04:00  313.1\n",
      "\n",
      "Shape of ADAUSDT data:  (33, 13)\n",
      "Columns:  ['timestamp', 'open', 'high', 'low', 'close', 'volume', 'close_time', 'quote_asset_volume', 'number_of_trades', 'taker_buy_base_volume', 'taker_buy_quote_volume', 'ignore', 'symbol']\n",
      "Sample of ADAUSDT data: \n",
      "   timestamp   close\n",
      "0 2024-01-01  0.6232\n",
      "1 2024-01-02  0.6050\n",
      "2 2024-01-03  0.5569\n",
      "3 2024-01-04  0.5699\n",
      "4 2024-01-05  0.5414\n",
      "\n",
      "Shape of BTCUSDT data:  (44641, 13)\n",
      "Columns:  ['timestamp', 'open', 'high', 'low', 'close', 'volume', 'close_time', 'quote_asset_volume', 'number_of_trades', 'taker_buy_base_volume', 'taker_buy_quote_volume', 'ignore', 'symbol']\n",
      "Sample of BTCUSDT data: \n",
      "            timestamp     close\n",
      "0 2024-01-01 00:00:00  42298.61\n",
      "1 2024-01-01 00:01:00  42320.00\n",
      "2 2024-01-01 00:02:00  42325.50\n",
      "3 2024-01-01 00:03:00  42367.99\n",
      "4 2024-01-01 00:04:00  42397.23\n",
      "\n",
      "Shape of DOGEUSDT data:  (44641, 13)\n",
      "Columns:  ['timestamp', 'open', 'high', 'low', 'close', 'volume', 'close_time', 'quote_asset_volume', 'number_of_trades', 'taker_buy_base_volume', 'taker_buy_quote_volume', 'ignore', 'symbol']\n",
      "Sample of DOGEUSDT data: \n",
      "            timestamp    close\n",
      "0 2024-01-01 00:00:00  0.08958\n",
      "1 2024-01-01 00:01:00  0.08963\n",
      "2 2024-01-01 00:02:00  0.08961\n",
      "3 2024-01-01 00:03:00  0.08973\n",
      "4 2024-01-01 00:04:00  0.08978\n",
      "\n",
      "Shape of XRPUSDT data:  (44641, 13)\n",
      "Columns:  ['timestamp', 'open', 'high', 'low', 'close', 'volume', 'close_time', 'quote_asset_volume', 'number_of_trades', 'taker_buy_base_volume', 'taker_buy_quote_volume', 'ignore', 'symbol']\n",
      "Sample of XRPUSDT data: \n",
      "            timestamp   close\n",
      "0 2024-01-01 00:00:00  0.6155\n",
      "1 2024-01-01 00:01:00  0.6159\n",
      "2 2024-01-01 00:02:00  0.6163\n",
      "3 2024-01-01 00:03:00  0.6165\n",
      "4 2024-01-01 00:04:00  0.6168\n",
      "\n",
      "Shape of ETHUSDT data:  (44641, 13)\n",
      "Columns:  ['timestamp', 'open', 'high', 'low', 'close', 'volume', 'close_time', 'quote_asset_volume', 'number_of_trades', 'taker_buy_base_volume', 'taker_buy_quote_volume', 'ignore', 'symbol']\n",
      "Sample of ETHUSDT data: \n",
      "            timestamp    close\n",
      "0 2024-01-01 00:00:00  2282.20\n",
      "1 2024-01-01 00:01:00  2283.96\n",
      "2 2024-01-01 00:02:00  2284.39\n",
      "3 2024-01-01 00:03:00  2286.37\n",
      "4 2024-01-01 00:04:00  2287.84\n"
     ]
    }
   ],
   "source": [
    "#Load the data\n",
    "crypto_data = load_all_crypto_data()\n",
    "\n",
    "#Debug data loading\n",
    "print(\"\\nLoaded symbols:\", list(crypto_data.keys()))\n",
    "for symbol, df in crypto_data.items():\n",
    "    print(f\"\\nShape of {symbol} data: \", df.shape)\n",
    "    print(f\"Columns: \", df.columns.tolist())\n",
    "    print(f\"Sample of {symbol} data: \")\n",
    "    print(df[['timestamp', 'close']].head())"
   ]
  },
  {
   "cell_type": "code",
   "execution_count": 9,
   "id": "f893948b",
   "metadata": {},
   "outputs": [
    {
     "data": {
      "text/html": [
       "<div>\n",
       "<style scoped>\n",
       "    .dataframe tbody tr th:only-of-type {\n",
       "        vertical-align: middle;\n",
       "    }\n",
       "\n",
       "    .dataframe tbody tr th {\n",
       "        vertical-align: top;\n",
       "    }\n",
       "\n",
       "    .dataframe thead th {\n",
       "        text-align: right;\n",
       "    }\n",
       "</style>\n",
       "<table border=\"1\" class=\"dataframe\">\n",
       "  <thead>\n",
       "    <tr style=\"text-align: right;\">\n",
       "      <th></th>\n",
       "      <th>timestamp</th>\n",
       "      <th>open</th>\n",
       "      <th>high</th>\n",
       "      <th>low</th>\n",
       "      <th>close</th>\n",
       "      <th>volume</th>\n",
       "      <th>close_time</th>\n",
       "      <th>quote_asset_volume</th>\n",
       "      <th>number_of_trades</th>\n",
       "      <th>taker_buy_base_volume</th>\n",
       "      <th>taker_buy_quote_volume</th>\n",
       "      <th>ignore</th>\n",
       "      <th>symbol</th>\n",
       "    </tr>\n",
       "  </thead>\n",
       "  <tbody>\n",
       "    <tr>\n",
       "      <th>0</th>\n",
       "      <td>2024-01-01 00:00:00</td>\n",
       "      <td>101.72</td>\n",
       "      <td>101.81</td>\n",
       "      <td>101.56</td>\n",
       "      <td>101.72</td>\n",
       "      <td>3730.92</td>\n",
       "      <td>2024-01-01 00:00:59.999</td>\n",
       "      <td>379418.1583</td>\n",
       "      <td>694</td>\n",
       "      <td>2170.81</td>\n",
       "      <td>220769.2563</td>\n",
       "      <td>0</td>\n",
       "      <td>SOLUSDT</td>\n",
       "    </tr>\n",
       "    <tr>\n",
       "      <th>1</th>\n",
       "      <td>2024-01-01 00:01:00</td>\n",
       "      <td>101.71</td>\n",
       "      <td>101.92</td>\n",
       "      <td>101.71</td>\n",
       "      <td>101.88</td>\n",
       "      <td>3727.21</td>\n",
       "      <td>2024-01-01 00:01:59.999</td>\n",
       "      <td>379446.7026</td>\n",
       "      <td>694</td>\n",
       "      <td>2130.13</td>\n",
       "      <td>216836.0035</td>\n",
       "      <td>0</td>\n",
       "      <td>SOLUSDT</td>\n",
       "    </tr>\n",
       "    <tr>\n",
       "      <th>2</th>\n",
       "      <td>2024-01-01 00:02:00</td>\n",
       "      <td>101.89</td>\n",
       "      <td>102.13</td>\n",
       "      <td>101.88</td>\n",
       "      <td>102.13</td>\n",
       "      <td>4056.09</td>\n",
       "      <td>2024-01-01 00:02:59.999</td>\n",
       "      <td>413719.6789</td>\n",
       "      <td>1047</td>\n",
       "      <td>2961.98</td>\n",
       "      <td>302112.4961</td>\n",
       "      <td>0</td>\n",
       "      <td>SOLUSDT</td>\n",
       "    </tr>\n",
       "    <tr>\n",
       "      <th>3</th>\n",
       "      <td>2024-01-01 00:03:00</td>\n",
       "      <td>102.13</td>\n",
       "      <td>102.31</td>\n",
       "      <td>102.05</td>\n",
       "      <td>102.27</td>\n",
       "      <td>9664.46</td>\n",
       "      <td>2024-01-01 00:03:59.999</td>\n",
       "      <td>987561.8362</td>\n",
       "      <td>1338</td>\n",
       "      <td>5159.83</td>\n",
       "      <td>527253.0426</td>\n",
       "      <td>0</td>\n",
       "      <td>SOLUSDT</td>\n",
       "    </tr>\n",
       "    <tr>\n",
       "      <th>4</th>\n",
       "      <td>2024-01-01 00:04:00</td>\n",
       "      <td>102.27</td>\n",
       "      <td>102.43</td>\n",
       "      <td>102.22</td>\n",
       "      <td>102.31</td>\n",
       "      <td>3973.58</td>\n",
       "      <td>2024-01-01 00:04:59.999</td>\n",
       "      <td>406553.4463</td>\n",
       "      <td>794</td>\n",
       "      <td>2536.06</td>\n",
       "      <td>259479.4305</td>\n",
       "      <td>0</td>\n",
       "      <td>SOLUSDT</td>\n",
       "    </tr>\n",
       "  </tbody>\n",
       "</table>\n",
       "</div>"
      ],
      "text/plain": [
       "            timestamp    open    high     low   close   volume  \\\n",
       "0 2024-01-01 00:00:00  101.72  101.81  101.56  101.72  3730.92   \n",
       "1 2024-01-01 00:01:00  101.71  101.92  101.71  101.88  3727.21   \n",
       "2 2024-01-01 00:02:00  101.89  102.13  101.88  102.13  4056.09   \n",
       "3 2024-01-01 00:03:00  102.13  102.31  102.05  102.27  9664.46   \n",
       "4 2024-01-01 00:04:00  102.27  102.43  102.22  102.31  3973.58   \n",
       "\n",
       "               close_time  quote_asset_volume  number_of_trades  \\\n",
       "0 2024-01-01 00:00:59.999         379418.1583               694   \n",
       "1 2024-01-01 00:01:59.999         379446.7026               694   \n",
       "2 2024-01-01 00:02:59.999         413719.6789              1047   \n",
       "3 2024-01-01 00:03:59.999         987561.8362              1338   \n",
       "4 2024-01-01 00:04:59.999         406553.4463               794   \n",
       "\n",
       "   taker_buy_base_volume  taker_buy_quote_volume ignore   symbol  \n",
       "0                2170.81             220769.2563      0  SOLUSDT  \n",
       "1                2130.13             216836.0035      0  SOLUSDT  \n",
       "2                2961.98             302112.4961      0  SOLUSDT  \n",
       "3                5159.83             527253.0426      0  SOLUSDT  \n",
       "4                2536.06             259479.4305      0  SOLUSDT  "
      ]
     },
     "execution_count": 9,
     "metadata": {},
     "output_type": "execute_result"
    }
   ],
   "source": [
    "# Plot both versions\n",
    "#print(\"Plotting multiple y-axes version...\")\n",
    "#plot_multiple_y_axes(crypto_data)\n",
    "crypto_data['SOLUSDT'].head()"
   ]
  },
  {
   "cell_type": "code",
   "execution_count": null,
   "id": "361a7e01",
   "metadata": {},
   "outputs": [],
   "source": [
    "print(\"\\nPlotting subplot grid version...\")\n",
    "plot_subplot_grid(crypto_data)\n",
    "\n"
   ]
  },
  {
   "cell_type": "code",
   "execution_count": null,
   "id": "293c042b",
   "metadata": {},
   "outputs": [],
   "source": [
    "# 2. Returns Calculation and Correlation Analysis\n",
    "# Calculate returns for each crypto\n",
    "returns_data = {}\n",
    "for symbol, df in crypto_data.items():\n",
    "    returns = pd.DataFrame()\n",
    "    returns['timestamp'] = df['timestamp']\n",
    "    returns['returns'] = np.log(df['close'].astype(float)).diff()\n",
    "    returns_data[symbol] = returns"
   ]
  },
  {
   "cell_type": "code",
   "execution_count": null,
   "id": "da1a888c",
   "metadata": {},
   "outputs": [],
   "source": [
    "# Create a combined returns dataframe\n",
    "combined_returns = pd.DataFrame()\n",
    "for symbol, returns in returns_data.items():\n",
    "    combined_returns[symbol] = returns['returns']\n",
    "combined_returns.index = list(returns_data.values())[0]['timestamp']"
   ]
  },
  {
   "cell_type": "code",
   "execution_count": null,
   "id": "228acc11",
   "metadata": {
    "lines_to_next_cell": 1
   },
   "outputs": [],
   "source": [
    "# Plot correlation heatmap of log returns\n",
    "plt.figure(figsize=(12, 8))\n",
    "sns.heatmap(\n",
    "    combined_returns.corr(),\n",
    "    annot=True,\n",
    "    cmap='RdYlBu',\n",
    "    center=0,\n",
    "    fmt='.2f'\n",
    ")\n",
    "plt.title('Correlation Heatmap of Crypto Returns')\n",
    "plt.tight_layout()\n",
    "plt.show()"
   ]
  },
  {
   "cell_type": "markdown",
   "id": "27b6617e",
   "metadata": {},
   "source": [
    "## ACF and PACF Analysis\n",
    "Analyze the autocorrelation and partial autocorrelation\n",
    "functions for each cryptocurrency."
   ]
  },
  {
   "cell_type": "code",
   "execution_count": null,
   "id": "16f890fe",
   "metadata": {
    "lines_to_next_cell": 1
   },
   "outputs": [],
   "source": [
    "def plot_acf_pacf(series, symbol, lags=50):\n",
    "    fig, (ax1, ax2) = plt.subplots(2, 1, figsize=(15, 10))\n",
    "\n",
    "    # ACF\n",
    "    acf_values = acf(series.dropna(), nlags=lags)\n",
    "    ax1.stem(range(len(acf_values)), acf_values)\n",
    "    ax1.axhline(y=0, linestyle='-', color='black')\n",
    "    ax1.axhline(y=-1.96 / np.sqrt(len(series)), linestyle='--', color='gray')\n",
    "    ax1.axhline(y=1.96 / np.sqrt(len(series)), linestyle='--', color='gray')\n",
    "    ax1.set_title(f'Autocorrelation Function for {symbol}')\n",
    "\n",
    "    # PACF\n",
    "    pacf_values = pacf(series.dropna(), nlags=lags)\n",
    "    ax2.stem(range(len(pacf_values)), pacf_values)\n",
    "    ax2.axhline(y=0, linestyle='-', color='black')\n",
    "    ax2.axhline(y=-1.96 / np.sqrt(len(series)), linestyle='--', color='gray')\n",
    "    ax2.axhline(y=1.96 / np.sqrt(len(series)), linestyle='--', color='gray')\n",
    "    ax2.set_title(f'Partial Autocorrelation Function for {symbol}')\n",
    "\n",
    "    plt.tight_layout()\n",
    "    plt.show()"
   ]
  },
  {
   "cell_type": "code",
   "execution_count": null,
   "id": "1535ce3b",
   "metadata": {
    "lines_to_next_cell": 1
   },
   "outputs": [],
   "source": [
    "# Plot ACF and PACF for each crypto\n",
    "for symbol in returns_data.keys():\n",
    "    print(f\"\\nAnalyzing {symbol}\")\n",
    "    plot_acf_pacf(returns_data[symbol]['returns'], symbol)"
   ]
  },
  {
   "cell_type": "markdown",
   "id": "18d8f0bb",
   "metadata": {
    "lines_to_next_cell": 0
   },
   "source": [
    "## Cross-Correlation Analysis\n",
    "Let's analyze the lead-lag relationships between different cryptocurrency pairs\n",
    "using cross-correlation functions. This will help us understand if price movements\n",
    "in one crypto tend to lead or lag another.\n"
   ]
  },
  {
   "cell_type": "code",
   "execution_count": null,
   "id": "12710a4a",
   "metadata": {
    "lines_to_next_cell": 1
   },
   "outputs": [],
   "source": [
    "def plot_ccf(series1, series2, name1, name2, lags=50):\n",
    "    ccf_values = ccf(series1.dropna(), series2.dropna(), adjusted=False)\n",
    "\n",
    "    # Plot CCF\n",
    "    plt.figure(figsize=(15, 5))\n",
    "    plt.stem(range(-lags, lags + 1), ccf_values[lags - lags:lags + lags + 1])\n",
    "    plt.axhline(y=0, linestyle='-', color='black')\n",
    "    plt.axhline(y=-1.96 / np.sqrt(len(series1)), linestyle='--', color='gray')\n",
    "    plt.axhline(y=1.96 / np.sqrt(len(series1)), linestyle='--', color='gray')\n",
    "    plt.title(f'Cross-Correlation Function: {name1} vs {name2}')\n",
    "    plt.xlabel('Lag')\n",
    "    plt.ylabel('CCF')\n",
    "    plt.tight_layout()\n",
    "    plt.show()\n",
    "\n",
    "    # Find significant lags\n",
    "    threshold = 1.96 / np.sqrt(len(series1))\n",
    "    significant_lags = np.where(np.abs(ccf_values) > threshold)[0] - lags\n",
    "    if len(significant_lags) > 0:\n",
    "        print(f\"Significant lags between {name1} and {name2}:\")\n",
    "        for lag in significant_lags:\n",
    "            if lag < 0:\n",
    "                print(\n",
    "                    f\"{name2} leads {name1} by {abs(lag)} periods \"\n",
    "                    f\"(correlation: {ccf_values[lag + lags]:.3f})\"\n",
    "                )\n",
    "            elif lag > 0:\n",
    "                print(\n",
    "                    f\"{name1} leads {name2} by {lag} periods \"\n",
    "                    f\"(correlation: {ccf_values[lag + lags]:.3f})\"\n",
    "                )"
   ]
  },
  {
   "cell_type": "code",
   "execution_count": null,
   "id": "57a7a4c7",
   "metadata": {
    "lines_to_next_cell": 1
   },
   "outputs": [],
   "source": [
    "# Get all unique pairs of cryptocurrencies\n",
    "crypto_pairs = list(itertools.combinations(returns_data.keys(), 2))\n",
    "\n",
    "# Plot CCF for each pair\n",
    "for pair in crypto_pairs:\n",
    "    symbol1, symbol2 = pair\n",
    "    print(f\"\\nAnalyzing cross-correlation between {symbol1} and {symbol2}\")\n",
    "    plot_ccf(\n",
    "        returns_data[symbol1]['returns'],\n",
    "        returns_data[symbol2]['returns'],\n",
    "        symbol1,\n",
    "        symbol2\n",
    "    )"
   ]
  },
  {
   "cell_type": "markdown",
   "id": "39a3b792",
   "metadata": {},
   "source": [
    "## ACF Analysis with Confidence Intervals\n",
    "Let's look at the autocorrelation structure of each cryptocurrency's returns,\n",
    "including confidence intervals to identify significant correlations."
   ]
  },
  {
   "cell_type": "code",
   "execution_count": null,
   "id": "67f6f8a2",
   "metadata": {
    "lines_to_next_cell": 1
   },
   "outputs": [],
   "source": [
    "def plot_detailed_acf(series, symbol, lags=50):\n",
    "    # Calculate ACF with confidence intervals\n",
    "    acf_values, confint = acf(series.dropna(), nlags=lags, alpha=0.05, fft=False)\n",
    "\n",
    "    plt.figure(figsize=(15, 5))\n",
    "    plt.stem(range(len(acf_values)), acf_values)\n",
    "    plt.axhline(y=0, linestyle='-', color='black')\n",
    "\n",
    "    # Plot confidence intervals\n",
    "    plt.fill_between(\n",
    "        range(len(acf_values)),\n",
    "        confint[:, 0],\n",
    "        confint[:, 1],\n",
    "        alpha=0.1,\n",
    "        color='blue'\n",
    "    )\n",
    "\n",
    "    plt.title(f'Autocorrelation Function for {symbol}')\n",
    "    plt.xlabel('Lag')\n",
    "    plt.ylabel('ACF')\n",
    "    plt.tight_layout()\n",
    "    plt.show()\n",
    "\n",
    "    # Print significant lags\n",
    "    significant_lags = np.where(\n",
    "        (acf_values < confint[:, 0]) |\n",
    "        (acf_values > confint[:, 1])\n",
    "    )[0]\n",
    "    if len(significant_lags) > 0:\n",
    "        print(f\"\\nSignificant autocorrelations for {symbol}:\")\n",
    "        for lag in significant_lags:\n",
    "            print(f\"Lag {lag}: {acf_values[lag]:.3f}\")"
   ]
  },
  {
   "cell_type": "code",
   "execution_count": null,
   "id": "13f59c2b",
   "metadata": {
    "lines_to_next_cell": 1
   },
   "outputs": [],
   "source": [
    "# Plot ACF for each cryptocurrency\n",
    "for symbol, returns in returns_data.items():\n",
    "    print(f\"\\nAnalyzing autocorrelation for {symbol}\")\n",
    "    plot_detailed_acf(returns['returns'], symbol)"
   ]
  },
  {
   "cell_type": "markdown",
   "id": "98caf60d",
   "metadata": {},
   "source": [
    "## Summary of Lead-Lag Relationships\n",
    "Let's create a summary table of the strongest lead-lag relationships found."
   ]
  },
  {
   "cell_type": "code",
   "execution_count": null,
   "id": "c220c288",
   "metadata": {
    "lines_to_next_cell": 1
   },
   "outputs": [],
   "source": [
    "def create_lead_lag_summary(returns_data, lags=50):\n",
    "    summary_data = []\n",
    "\n",
    "    for pair in itertools.combinations(returns_data.keys(), 2):\n",
    "        symbol1, symbol2 = pair\n",
    "        ccf_values = ccf(\n",
    "            returns_data[symbol1]['returns'].dropna(),\n",
    "            returns_data[symbol2]['returns'].dropna(),\n",
    "            adjusted=False\n",
    "        )\n",
    "\n",
    "        # Find max correlation and corresponding lag\n",
    "        max_corr_idx = np.argmax(np.abs(ccf_values))\n",
    "        max_corr = ccf_values[max_corr_idx]\n",
    "        max_lag = max_corr_idx - lags\n",
    "\n",
    "        if max_lag < 0:\n",
    "            leader = symbol2\n",
    "            lagger = symbol1\n",
    "            lag = abs(max_lag)\n",
    "        else:\n",
    "            leader = symbol1\n",
    "            lagger = symbol2\n",
    "            lag = max_lag\n",
    "\n",
    "        summary_data.append({\n",
    "            'Leader': leader,\n",
    "            'Lagger': lagger,\n",
    "            'Lag (minutes)': lag,\n",
    "            'Correlation': max_corr\n",
    "        })\n",
    "\n",
    "    summary_df = pd.DataFrame(summary_data)\n",
    "    return summary_df.sort_values('Correlation', key=abs, ascending=False)"
   ]
  },
  {
   "cell_type": "code",
   "execution_count": null,
   "id": "5871310f",
   "metadata": {},
   "outputs": [],
   "source": [
    "summary_df = create_lead_lag_summary(returns_data)\n",
    "print(\"Summary of Strongest Lead-Lag Relationships:\")\n",
    "print(summary_df)"
   ]
  },
  {
   "cell_type": "markdown",
   "id": "24894f18",
   "metadata": {},
   "source": [
    "## Summary Statistics and Volatility Analysis"
   ]
  },
  {
   "cell_type": "code",
   "execution_count": null,
   "id": "a3dab5a9",
   "metadata": {},
   "outputs": [],
   "source": [
    "# Summary Statistics\n",
    "summary_stats = pd.DataFrame()\n",
    "for symbol, returns in returns_data.items():\n",
    "    stats = returns['returns'].describe()\n",
    "    stats['skewness'] = returns['returns'].skew()\n",
    "    stats['kurtosis'] = returns['returns'].kurtosis()\n",
    "    summary_stats[symbol] = stats\n",
    "\n",
    "print(\"\\nSummary Statistics for Returns:\")\n",
    "print(summary_stats)"
   ]
  },
  {
   "cell_type": "code",
   "execution_count": null,
   "id": "c4f5df69",
   "metadata": {},
   "outputs": [],
   "source": [
    "# Volatility Analysis\n",
    "# Calculate rolling volatility (30-minute window)\n",
    "plt.figure(figsize=(15, 10))\n",
    "for symbol, returns in returns_data.items():\n",
    "    vol = returns['returns'].rolling(window=30).std() * np.sqrt(30)\n",
    "    plt.plot(returns['timestamp'], vol, label=symbol)\n",
    "\n",
    "plt.title('30-Minute Rolling Volatility')\n",
    "plt.xlabel('Time')\n",
    "plt.ylabel('Annualized Volatility')\n",
    "plt.legend()\n",
    "plt.xticks(rotation=45)\n",
    "plt.tight_layout()\n",
    "plt.show()"
   ]
  },
  {
   "cell_type": "markdown",
   "id": "6378a136",
   "metadata": {},
   "source": [
    "## Analysis\n",
    "* We have successfully loaded and analyzed the cryptocurrency data.\n",
    "* We visualized the price data using multiple y-axes and subplot grid approaches.\n",
    "* Calculated log returns and analyzed their correlations.\n",
    "* The Data are clearly non-stationary. This means that we should look at returns\n",
    "  instead of prices, before doing Granger causality tests"
   ]
  }
 ],
 "metadata": {
  "jupytext": {
   "cell_metadata_filter": "-all",
   "main_language": "python",
   "notebook_metadata_filter": "-all"
  },
  "kernelspec": {
   "display_name": "Python 3 (ipykernel)",
   "language": "python",
   "name": "python3"
  },
  "language_info": {
   "codemirror_mode": {
    "name": "ipython",
    "version": 3
   },
   "file_extension": ".py",
   "mimetype": "text/x-python",
   "name": "python",
   "nbconvert_exporter": "python",
   "pygments_lexer": "ipython3",
   "version": "3.12.3"
  }
 },
 "nbformat": 4,
 "nbformat_minor": 5
}
