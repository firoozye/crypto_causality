{
 "cells": [
  {
   "cell_type": "markdown",
   "id": "02fcea67",
   "metadata": {},
   "source": [
    "# First Exploratory Data Analysis of Crypto Data\n",
    "\n",
    "## Plotting\n",
    "* Plot data\n",
    "* Plot Correlations\n",
    "* ACFs and PACFs\n",
    "* Summary Statistics\n",
    "\n",
    "## Goal: All things needed for a pre-causal analysis"
   ]
  },
  {
   "cell_type": "code",
   "execution_count": null,
   "id": "53175da7",
   "metadata": {},
   "outputs": [],
   "source": [
    "import pandas as pd\n",
    "import numpy as np\n",
    "import matplotlib.pyplot as plt\n",
    "import seaborn as sns\n",
    "from statsmodels.tsa.stattools import acf, pacf\n",
    "from statsmodels.tsa.stattools import ccf\n",
    "import itertools\n",
    "import glob\n",
    "import os\n",
    "\n",
    "# Set style for better visualizations\n",
    "sns.set_theme()\n",
    "sns.set_palette(\"husl\")\n",
    "plt.rcParams['figure.figsize'] = [12, 6]"
   ]
  },
  {
   "cell_type": "markdown",
   "id": "96f2dbea",
   "metadata": {
    "lines_to_next_cell": 2
   },
   "source": [
    "## Data Loading\n",
    "First, let's load our data files containing the cryptocurrency data."
   ]
  },
  {
   "cell_type": "code",
   "execution_count": null,
   "id": "00845de8",
   "metadata": {},
   "outputs": [],
   "source": [
    "def load_all_crypto_data(data_dir=\"./data/processed\"):\n",
    "    all_data = {}\n",
    "    for file in glob.glob(os.path.join(data_dir, \"*.csv\")):  # Changed to .csv\n",
    "        symbol = os.path.basename(file).split('_')[0]\n",
    "        df = pd.read_csv(file)  # Changed from parquet to csv\n",
    "        all_data[symbol] = df\n",
    "    return all_data\n",
    "\n",
    "\n",
    "# Load the data\n",
    "try:\n",
    "    crypto_data = load_all_crypto_data()\n",
    "except Exception as e:\n",
    "    print(f\"Error loading data: {e}\")\n",
    "    crypto_data = {}  # Initialize empty dict if loading fails"
   ]
  },
  {
   "cell_type": "markdown",
   "id": "266a30f1",
   "metadata": {},
   "source": [
    "## Price Series Visualization\n",
    "\n",
    "Let's visualize the raw price movements of all cryptocurrencies."
   ]
  },
  {
   "cell_type": "code",
   "execution_count": null,
   "id": "5d28ed01",
   "metadata": {},
   "outputs": [],
   "source": [
    "# 1. Price Series Visualization\n",
    "plt.figure(figsize=(15, 10))\n",
    "for symbol, df in crypto_data.items():\n",
    "    plt.plot(df['timestamp'], df['close'].astype(float), label=symbol)\n",
    "plt.title('Crypto Price Series')\n",
    "plt.xlabel('Time')\n",
    "plt.ylabel('Price (USDT)')\n",
    "plt.legend()\n",
    "plt.xticks(rotation=45)\n",
    "plt.tight_layout()\n",
    "plt.show()"
   ]
  },
  {
   "cell_type": "code",
   "execution_count": null,
   "id": "8b1149c9",
   "metadata": {},
   "outputs": [],
   "source": [
    "# 2. Returns Calculation and Correlation Analysis\n",
    "# Calculate returns for each crypto\n",
    "returns_data = {}\n",
    "for symbol, df in crypto_data.items():\n",
    "    returns = pd.DataFrame()\n",
    "    returns['timestamp'] = df['timestamp']\n",
    "    returns['returns'] = np.log(df['close'].astype(float)).diff()\n",
    "    returns_data[symbol] = returns"
   ]
  },
  {
   "cell_type": "code",
   "execution_count": null,
   "id": "21d41fc5",
   "metadata": {},
   "outputs": [],
   "source": [
    "# Create a combined returns dataframe\n",
    "combined_returns = pd.DataFrame()\n",
    "for symbol, returns in returns_data.items():\n",
    "    combined_returns[symbol] = returns['returns']\n",
    "combined_returns.index = list(returns_data.values())[0]['timestamp']"
   ]
  },
  {
   "cell_type": "code",
   "execution_count": null,
   "id": "119fe24b",
   "metadata": {},
   "outputs": [],
   "source": [
    "# Plot correlation heatmap\n",
    "plt.figure(figsize=(12, 8))\n",
    "sns.heatmap(combined_returns.corr(),\n",
    "            annot=True,\n",
    "            cmap='RdYlBu',\n",
    "            center=0,\n",
    "            fmt='.2f')\n",
    "plt.title('Correlation Heatmap of Crypto Returns')\n",
    "plt.tight_layout()\n",
    "plt.show()"
   ]
  },
  {
   "cell_type": "markdown",
   "id": "1af25e89",
   "metadata": {},
   "source": [
    "## ACF and PACF Analysis\n",
    "Analyze the autocorrelation and partial autocorrelation functions for each\n",
    "cryptocurrency."
   ]
  },
  {
   "cell_type": "code",
   "execution_count": null,
   "id": "fad51d88",
   "metadata": {},
   "outputs": [],
   "source": [
    "# 3. ACF and PACF Analysis\n",
    "\n",
    "\n",
    "def plot_acf_pacf(series, symbol, lags=50):\n",
    "    fig, (ax1, ax2) = plt.subplots(2, 1, figsize=(15, 10))\n",
    "\n",
    "    # ACF\n",
    "    acf_values = acf(series.dropna(), nlags=lags)\n",
    "    ax1.stem(range(len(acf_values)), acf_values)\n",
    "    ax1.axhline(y=0, linestyle='-', color='black')\n",
    "    ax1.axhline(y=-1.96 / np.sqrt(len(series)), linestyle='--', color='gray')\n",
    "    ax1.axhline(y=1.96 / np.sqrt(len(series)), linestyle='--', color='gray')\n",
    "    ax1.set_title(f'Autocorrelation Function for {symbol}')\n",
    "\n",
    "    # PACF\n",
    "    pacf_values = pacf(series.dropna(), nlags=lags)\n",
    "    ax2.stem(range(len(pacf_values)), pacf_values)\n",
    "    ax2.axhline(y=0, linestyle='-', color='black')\n",
    "    ax2.axhline(y=-1.96 / np.sqrt(len(series)), linestyle='--', color='gray')\n",
    "    ax2.axhline(y=1.96 / np.sqrt(len(series)), linestyle='--', color='gray')\n",
    "    ax2.set_title(f'Partial Autocorrelation Function for {symbol}')\n",
    "\n",
    "    plt.tight_layout()\n",
    "    plt.show()"
   ]
  },
  {
   "cell_type": "code",
   "execution_count": null,
   "id": "619fb5ff",
   "metadata": {},
   "outputs": [],
   "source": [
    "# Plot ACF and PACF for each crypto\n",
    "for symbol in returns_data.keys():\n",
    "    print(f\"\\nAnalyzing {symbol}\")\n",
    "    plot_acf_pacf(returns_data[symbol]['returns'], symbol)"
   ]
  },
  {
   "cell_type": "markdown",
   "id": "c0484432",
   "metadata": {},
   "source": [
    "## Cross-Correlation Analysis\n",
    "\n",
    "Let's analyze the lead-lag relationships between different\n",
    "cryptocurrency pairs using cross-correlation functions.\n",
    "This will help us understand if price movements in one\n",
    "crypto tend to lead or lag another."
   ]
  },
  {
   "cell_type": "code",
   "execution_count": null,
   "id": "a7a40ae4",
   "metadata": {},
   "outputs": [],
   "source": [
    "# Function to calculate and plot cross-correlations\n",
    "def plot_ccf(series1, series2, name1, name2, lags=50):\n",
    "    ccf_values = ccf(series1.dropna(), series2.dropna(), adjusted=False)\n",
    "\n",
    "    # Plot CCF\n",
    "    plt.figure(figsize=(15, 5))\n",
    "    plt.stem(range(-lags, lags + 1), ccf_values[lags - lags:lags + lags + 1])\n",
    "    plt.axhline(y=0, linestyle='-', color='black')\n",
    "    plt.axhline(y=-1.96 / np.sqrt(len(series1)), linestyle='--', color='gray')\n",
    "    plt.axhline(y=1.96 / np.sqrt(len(series1)), linestyle='--', color='gray')\n",
    "    plt.title(f'Cross-Correlation Function: {name1} vs {name2}')\n",
    "    plt.xlabel('Lag')\n",
    "    plt.ylabel('CCF')\n",
    "    plt.tight_layout()\n",
    "    plt.show()\n",
    "\n",
    "    # Find significant lags\n",
    "    threshold = 1.96 / np.sqrt(len(series1))\n",
    "    significant_lags = np.where(np.abs(ccf_values) > threshold)[0] - lags\n",
    "    if len(significant_lags) > 0:\n",
    "        print(f\"Significant lags between {name1} and {name2}: \\n\")\n",
    "        for lag in significant_lags:\n",
    "            if lag < 0:\n",
    "                print(f\"{name2} leads {name1} by {abs(lag)} periods\" +\n",
    "                      f\"(correlation: {ccf_values[lag + lags]: .3f})\")\n",
    "            elif lag > 0:\n",
    "                print(f\"{name1} leads {name2} by {lag} periods\" +\n",
    "                      f\"(correlation: {ccf_values[lag + lags]: .3f})\")"
   ]
  },
  {
   "cell_type": "code",
   "execution_count": null,
   "id": "21739e02",
   "metadata": {},
   "outputs": [],
   "source": [
    "# Calculate returns for each crypto\n",
    "returns_data = {}\n",
    "for symbol, df in crypto_data.items():\n",
    "    returns = pd.DataFrame()\n",
    "    returns['timestamp'] = df['timestamp']\n",
    "    returns['returns'] = np.log(df['close'].astype(float)).diff()\n",
    "    returns_data[symbol] = returns"
   ]
  },
  {
   "cell_type": "code",
   "execution_count": null,
   "id": "d4a003a0",
   "metadata": {},
   "outputs": [],
   "source": [
    "# Get all unique pairs of cryptocurrencies\n",
    "crypto_pairs = list(itertools.combinations(returns_data.keys(), 2))\n",
    "\n",
    "# Plot CCF for each pair\n",
    "for pair in crypto_pairs:\n",
    "    symbol1, symbol2 = pair\n",
    "    print(f\"\\nAnalyzing cross-correlation between {symbol1} and {symbol2}\")\n",
    "    plot_ccf(returns_data[symbol1]['returns'],\n",
    "             returns_data[symbol2]['returns'],\n",
    "             symbol1, symbol2)"
   ]
  },
  {
   "cell_type": "markdown",
   "id": "5db16676",
   "metadata": {
    "lines_to_next_cell": 2
   },
   "source": [
    "## ACF Analysis with Confidence Intervals\n",
    "\n",
    "Let's look at the autocorrelation structure of each cryptocurrency's returns,\n",
    "including confidence intervals to identify significant correlations."
   ]
  },
  {
   "cell_type": "code",
   "execution_count": null,
   "id": "b3621568",
   "metadata": {},
   "outputs": [],
   "source": [
    "def plot_detailed_acf(series, symbol, lags=50):\n",
    "    # Calculate ACF with confidence intervals\n",
    "    acf_values, confint = acf(series.dropna(), nlags=lags, alpha=0.05,\n",
    "                              fft=False)\n",
    "\n",
    "    plt.figure(figsize=(15, 5))\n",
    "    plt.stem(range(len(acf_values)), acf_values)\n",
    "    plt.axhline(y=0, linestyle='-', color='black')\n",
    "\n",
    "    # Plot confidence intervals\n",
    "    plt.fill_between(range(len(acf_values)),\n",
    "                     confint[:, 0], confint[:, 1],\n",
    "                     alpha=0.1, color='blue')\n",
    "\n",
    "    plt.title(f'Autocorrelation Function for {symbol}')\n",
    "    plt.xlabel('Lag')\n",
    "    plt.ylabel('ACF')\n",
    "    plt.tight_layout()\n",
    "    plt.show()\n",
    "\n",
    "    # Print significant lags\n",
    "    significant_lags = np.where((acf_values < confint[:, 0]) |\n",
    "                                (acf_values > confint[:, 1]))[0]\n",
    "    if len(significant_lags) > 0:\n",
    "        print(f\"\\nSignificant autocorrelations for {symbol}: \")\n",
    "        for lag in significant_lags:\n",
    "            print(f\"Lag {lag}: {acf_values[lag]: .3f}\")"
   ]
  },
  {
   "cell_type": "code",
   "execution_count": null,
   "id": "a011d527",
   "metadata": {},
   "outputs": [],
   "source": [
    "# Plot ACF for each cryptocurrency\n",
    "for symbol, returns in returns_data.items():\n",
    "    print(f\"\\nAnalyzing autocorrelation for {symbol}\")\n",
    "    plot_detailed_acf(returns['returns'], symbol)"
   ]
  },
  {
   "cell_type": "markdown",
   "id": "7db51742",
   "metadata": {
    "lines_to_next_cell": 2
   },
   "source": [
    "## Summary of Lead-Lag Relationships\n",
    "\n",
    "Let's create a summary table of the strongest lead-lag relationships found."
   ]
  },
  {
   "cell_type": "code",
   "execution_count": null,
   "id": "dbc880a0",
   "metadata": {
    "lines_to_next_cell": 2
   },
   "outputs": [],
   "source": [
    "def create_lead_lag_summary(returns_data, lags=50):\n",
    "    summary_data = []\n",
    "\n",
    "    for pair in itertools.combinations(returns_data.keys(), 2):\n",
    "        symbol1, symbol2 = pair\n",
    "        ccf_values = ccf(returns_data[symbol1]['returns'].dropna(),\n",
    "                         returns_data[symbol2]['returns'].dropna(),\n",
    "                         adjusted=False)\n",
    "\n",
    "        # Find max correlation and corresponding lag\n",
    "        max_corr_idx = np.argmax(np.abs(ccf_values))\n",
    "        max_corr = ccf_values[max_corr_idx]\n",
    "        max_lag = max_corr_idx - lags\n",
    "\n",
    "        if max_lag < 0:\n",
    "            leader = symbol2\n",
    "            lagger = symbol1\n",
    "            lag = abs(max_lag)\n",
    "        else:\n",
    "            leader = symbol1\n",
    "            lagger = symbol2\n",
    "            lag = max_lag\n",
    "\n",
    "        summary_data.append({\n",
    "            'Leader': leader,\n",
    "            'Lagger': lagger,\n",
    "            'Lag (minutes)': lag,\n",
    "            'Correlation': max_corr\n",
    "        })\n",
    "\n",
    "    summary_df = pd.DataFrame(summary_data)\n",
    "    return summary_df.sort_values('Correlation', key=abs, ascending=False)\n",
    "\n",
    "\n",
    "summary_df = create_lead_lag_summary(returns_data)\n",
    "print(\"Summary of Strongest Lead-Lag Relationships:\")\n",
    "print(summary_df)"
   ]
  },
  {
   "cell_type": "code",
   "execution_count": null,
   "id": "48d94b4e",
   "metadata": {},
   "outputs": [],
   "source": [
    "# 4. Summary Statistics\n",
    "summary_stats = pd.DataFrame()\n",
    "for symbol, returns in returns_data.items():\n",
    "    stats = returns['returns'].describe()\n",
    "    stats['skewness'] = returns['returns'].skew()\n",
    "    stats['kurtosis'] = returns['returns'].kurtosis()\n",
    "    summary_stats[symbol] = stats\n",
    "\n",
    "print(\"\\nSummary Statistics for Returns:\")\n",
    "print(summary_stats)"
   ]
  },
  {
   "cell_type": "code",
   "execution_count": null,
   "id": "a3713e3b",
   "metadata": {},
   "outputs": [],
   "source": [
    "# 5. Volatility Analysis\n",
    "# Calculate rolling volatility (30-minute window)\n",
    "plt.figure(figsize=(15, 10))\n",
    "for symbol, returns in returns_data.items():\n",
    "    vol = returns['returns'].rolling(window=30).std() * np.sqrt(30)\n",
    "    plt.plot(returns['timestamp'], vol, label=symbol)\n",
    "\n",
    "plt.title('30-Minute Rolling Volatility')\n",
    "plt.xlabel('Time')\n",
    "plt.ylabel('Annualized Volatility')\n",
    "plt.legend()\n",
    "plt.xticks(rotation=45)\n",
    "plt.tight_layout()\n",
    "plt.show()"
   ]
  }
 ],
 "metadata": {
  "jupytext": {
   "cell_metadata_filter": "-all",
   "main_language": "python",
   "notebook_metadata_filter": "-all"
  }
 },
 "nbformat": 4,
 "nbformat_minor": 5
}
