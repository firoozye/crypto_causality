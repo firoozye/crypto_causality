{
 "cells": [
  {
   "cell_type": "markdown",
   "id": "6fd559fb",
   "metadata": {},
   "source": [
    "# Cryptocurrency Forecasting Model using EWRLS\n",
    "\n",
    "## Goal:\n",
    "* Develop a forecasting model for cryptocurrency returns using Exponentially Weighted Recursive Least Squares (EWRLS).\n",
    "* Leverage insights from Granger causality analysis to select relevant features."
   ]
  },
  {
   "cell_type": "code",
   "execution_count": null,
   "id": "5dc825c9",
   "metadata": {
    "lines_to_next_cell": 1
   },
   "outputs": [],
   "source": [
    "import pandas as pd\n",
    "import numpy as np\n",
    "import matplotlib.pyplot as plt\n",
    "import seaborn as sns\n",
    "import glob\n",
    "import os\n",
    "import sys\n",
    "from sklearn.metrics import mean_squared_error, r2_score\n",
    "\n",
    "# Add the project root to the python path\n",
    "try:\n",
    "    # This works when the script is run directly\n",
    "    project_root = os.path.abspath(os.path.join(os.path.dirname(__file__), '..', '..'))\n",
    "except NameError:\n",
    "    # This works when run in an interactive environment like Jupyter\n",
    "    # Assumes the notebook is in notebooks/python or notebooks/jupyter\n",
    "    project_root = os.path.abspath(os.path.join(os.getcwd(), '..', '..'))\n",
    "\n",
    "if project_root not in sys.path:\n",
    "    sys.path.insert(0, project_root)\n",
    "\n",
    "from src.ewrls.ewrls import EWRLSRidge\n",
    "\n",
    "# Set style for better visualizations\n",
    "sns.set_theme()\n",
    "sns.set_palette(\"husl\")\n",
    "plt.rcParams['figure.figsize'] = [12, 6]"
   ]
  },
  {
   "cell_type": "markdown",
   "id": "d059a604",
   "metadata": {},
   "source": [
    "## Data Loading and Preparation\n",
    "We will load the processed cryptocurrency data and prepare it for forecasting."
   ]
  },
  {
   "cell_type": "code",
   "execution_count": null,
   "id": "39d1a9f5",
   "metadata": {
    "lines_to_next_cell": 1
   },
   "outputs": [],
   "source": [
    "def load_all_crypto_data(data_dir=os.path.join(project_root, 'data', 'processed')):\n",
    "    all_data = {}\n",
    "    for file in glob.glob(os.path.join(data_dir, \"*.parquet\")):\n",
    "        symbol = os.path.basename(file).split('_')[0]\n",
    "        print(f\"Loading {file}...\")\n",
    "        df = pq.read_table(file).to_pandas()\n",
    "        all_data[symbol] = df\n",
    "    return all_data\n",
    "\n",
    "# Load the data\n",
    "crypto_data = load_all_crypto_data()\n",
    "\n",
    "# Calculate returns for each crypto\n",
    "returns_data = {}\n",
    "for symbol, df in crypto_data.items():\n",
    "    returns = pd.DataFrame()\n",
    "    returns['timestamp'] = df['timestamp']\n",
    "    returns['returns'] = np.log(df['close'].astype(float)).diff()\n",
    "    returns_data[symbol] = returns\n",
    "\n",
    "# Create a combined returns dataframe\n",
    "combined_returns = pd.DataFrame()\n",
    "for symbol, returns in returns_data.items():\n",
    "    combined_returns[symbol] = returns['returns']\n",
    "combined_returns.index = list(returns_data.values())[0]['timestamp']\n",
    "combined_returns = combined_returns.dropna()"
   ]
  },
  {
   "cell_type": "markdown",
   "id": "502c8442",
   "metadata": {},
   "source": [
    "## Feature Engineering\n",
    "Create lagged features for the forecasting model."
   ]
  },
  {
   "cell_type": "code",
   "execution_count": null,
   "id": "07ab3d01",
   "metadata": {
    "lines_to_next_cell": 1
   },
   "outputs": [],
   "source": [
    "def create_lagged_features(df, target_col, lags=5):\n",
    "    df_lagged = df.copy()\n",
    "    for col in df.columns:\n",
    "        for i in range(1, lags + 1):\n",
    "            df_lagged[f'{col}_lag_{i}'] = df_lagged[col].shift(i)\n",
    "    \n",
    "    # Define target variable (next period's return)\n",
    "    df_lagged['target'] = df_lagged[target_col].shift(-1)\n",
    "    \n",
    "    return df_lagged.dropna()\n",
    "\n",
    "# Define target cryptocurrency\n",
    "target_crypto = 'BTCUSDT'\n",
    "\n",
    "# Create lagged features for all cryptocurrencies\n",
    "forecasting_data = create_lagged_features(combined_returns, target_crypto, lags=5)\n",
    "\n",
    "# Separate features (X) and target (y)\n",
    "X = forecasting_data.drop(columns=['target'])\n",
    "y = forecasting_data['target']"
   ]
  },
  {
   "cell_type": "markdown",
   "id": "6e2563ca",
   "metadata": {},
   "source": [
    "## EWRLS Forecasting Model\n",
    "Implement a rolling window forecasting strategy using EWRLSRidge."
   ]
  },
  {
   "cell_type": "code",
   "execution_count": null,
   "id": "8d85dcc5",
   "metadata": {},
   "outputs": [],
   "source": [
    "def run_ewrls_forecasting(X, y, window_size=1000, span=100, regularization=0.1):\n",
    "    predictions = []\n",
    "    actuals = []\n",
    "\n",
    "    for i in range(window_size, len(X)):\n",
    "        X_train = X.iloc[i-window_size:i]\n",
    "        y_train = y.iloc[i-window_size:i]\n",
    "        X_test = X.iloc[i:i+1]\n",
    "        y_test = y.iloc[i:i+1]\n",
    "\n",
    "        # Initialize and update EWRLS model\n",
    "        model = EWRLSRidge(num_features=X_train.shape[1], span=span, regularization=regularization)\n",
    "        model.update(y_train.values, X_train.values)\n",
    "\n",
    "        # Make prediction\n",
    "        prediction = model.generate_prediction(X_test.values[0])\n",
    "        predictions.append(prediction)\n",
    "        actuals.append(y_test.values[0])\n",
    "\n",
    "    return pd.DataFrame({'Actual': actuals, 'Prediction': predictions}, index=y.index[window_size:len(X)])\n",
    "\n",
    "# Run forecasting\n",
    "forecast_results = run_ewrls_forecasting(X, y)"
   ]
  },
  {
   "cell_type": "markdown",
   "id": "a752c9e5",
   "metadata": {},
   "source": [
    "## Evaluation\n",
    "Evaluate the performance of the forecasting model."
   ]
  },
  {
   "cell_type": "code",
   "execution_count": null,
   "id": "e16a897f",
   "metadata": {},
   "outputs": [],
   "source": [
    "mse = mean_squared_error(forecast_results['Actual'], forecast_results['Prediction'])\n",
    "r2 = r2_score(forecast_results['Actual'], forecast_results['Prediction'])\n",
    "\n",
    "print(f\"Mean Squared Error (MSE): {mse:.6f}\")\n",
    "print(f\"R-squared (R2): {r2:.6f}\")"
   ]
  },
  {
   "cell_type": "markdown",
   "id": "e4d873a6",
   "metadata": {},
   "source": [
    "## Plotting Forecasts\n",
    "Visualize the actual vs. predicted returns."
   ]
  },
  {
   "cell_type": "code",
   "execution_count": null,
   "id": "b050747e",
   "metadata": {},
   "outputs": [],
   "source": [
    "plt.figure(figsize=(15, 7))\n",
    "plt.plot(forecast_results['Actual'], label='Actual Returns')\n",
    "plt.plot(forecast_results['Prediction'], label='Predicted Returns', alpha=0.7)\n",
    "plt.title(f'{target_crypto} Returns: Actual vs. Predicted')\n",
    "plt.xlabel('Time')\n",
    "plt.ylabel('Returns')\n",
    "plt.legend()\n",
    "plt.tight_layout()\n",
    "plt.show()"
   ]
  }
 ],
 "metadata": {
  "jupytext": {
   "cell_metadata_filter": "-all",
   "main_language": "python",
   "notebook_metadata_filter": "-all"
  }
 },
 "nbformat": 4,
 "nbformat_minor": 5
}
