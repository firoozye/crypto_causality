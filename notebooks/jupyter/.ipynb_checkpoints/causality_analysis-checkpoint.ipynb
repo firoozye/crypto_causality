{
 "cells": [
  {
   "cell_type": "markdown",
   "id": "077a10bd",
   "metadata": {},
   "source": [
    "# Causality Analysis of Crypto Data\n",
    "\n",
    "## Goal: \n",
    "* Determine causal relationships between BTC and other major crypto currencies\n",
    "* Analyze the stability of these relationships over time"
   ]
  },
  {
   "cell_type": "code",
   "execution_count": null,
   "id": "c5738ebf",
   "metadata": {
    "lines_to_next_cell": 1
   },
   "outputs": [],
   "source": [
    "import pandas as pd\n",
    "import numpy as np\n",
    "import matplotlib.pyplot as plt\n",
    "import seaborn as sns\n",
    "import glob\n",
    "import os\n",
    "import pyarrow.parquet as pq\n",
    "\n",
    "# Import causality analysis tools\n",
    "import sys\n",
    "sys.path.append('../src')\n",
    "from analysis.granger_causality import GrangerCausalityAnalyzer\n",
    "from analysis.time_varying_granger import rolling_granger_causality, plot_tvgc_results, summarize_tvgc_results\n",
    "\n",
    "# Set style for better visualizations\n",
    "sns.set_theme()\n",
    "sns.set_palette(\"husl\")\n",
    "plt.rcParams['figure.figsize'] = [12, 6]"
   ]
  },
  {
   "cell_type": "markdown",
   "id": "27b7fd8b",
   "metadata": {},
   "source": [
    "## Data Loading\n",
    "First, let's load our data files containing the cryptocurrency data."
   ]
  },
  {
   "cell_type": "code",
   "execution_count": null,
   "id": "6bc3a669",
   "metadata": {},
   "outputs": [],
   "source": [
    "def load_all_crypto_data(data_dir=\"../data/processed/\"):\n",
    "    all_data = {}\n",
    "    for file in glob.glob(os.path.join(data_dir, \"*.parquet\")):\n",
    "        symbol = os.path.basename(file).split('_')[0]\n",
    "        # Get symbol from filename\n",
    "        print(f\"Loading {file}...\")\n",
    "        df = pq.read_table(file).to_pandas()\n",
    "        all_data[symbol] = df\n",
    "    return all_data"
   ]
  },
  {
   "cell_type": "markdown",
   "id": "2d0d45c7",
   "metadata": {},
   "source": [
    " Additional Analysis: Summary Statistics\n",
    "\n",
    "Load the data\n",
    "crypto_data = load_all_crypto_data()"
   ]
  },
  {
   "cell_type": "code",
   "execution_count": null,
   "id": "a1782c3d",
   "metadata": {},
   "outputs": [],
   "source": [
    "# Calculate returns for each crypto\n",
    "returns_data = {}\n",
    "for symbol, df in crypto_data.items():\n",
    "    returns = pd.DataFrame()\n",
    "    returns['timestamp'] = df['timestamp']\n",
    "    returns['returns'] = np.log(df['close'].astype(float)).diff()\n",
    "    returns_data[symbol] = returns"
   ]
  },
  {
   "cell_type": "code",
   "execution_count": null,
   "id": "1db8946e",
   "metadata": {
    "lines_to_next_cell": 0
   },
   "outputs": [],
   "source": [
    "# Create a combined returns dataframe\n",
    "combined_returns = pd.DataFrame()\n",
    "for symbol, returns in returns_data.items():\n",
    "    combined_returns[symbol] = returns['returns']\n",
    "combined_returns.index = list(returns_data.values())[0]['timestamp']"
   ]
  },
  {
   "cell_type": "markdown",
   "id": "4de45d4e",
   "metadata": {},
   "source": [
    "## Pairwise Granger Causality\n",
    "We will now perform pairwise Granger causality tests to identify potential causal relationships between the cryptocurrencies."
   ]
  },
  {
   "cell_type": "code",
   "execution_count": null,
   "id": "c6b0ed2c",
   "metadata": {},
   "outputs": [],
   "source": [
    "# Initialize the analyzer\n",
    "analyzer = GrangerCausalityAnalyzer(combined_returns, max_lags=10)\n",
    "\n",
    "# Run pairwise causality analysis\n",
    "pairwise_results = analyzer.run_pairwise_causality()\n",
    "\n",
    "# Print summary of significant results\n",
    "print(\"Pairwise Granger Causality Results (Significant at 5%):\")\n",
    "print(pairwise_results[pairwise_results['significant']])"
   ]
  },
  {
   "cell_type": "code",
   "execution_count": null,
   "id": "c23ded1d",
   "metadata": {
    "lines_to_next_cell": 0
   },
   "outputs": [],
   "source": [
    "# Get summary statistics\n",
    "summary_stats = analyzer.get_summary_statistics()\n",
    "print(\"\\nCausality Summary Statistics:\")"
   ]
  },
  {
   "cell_type": "markdown",
   "id": "0e1257f7",
   "metadata": {},
   "source": [
    "## Multivariate Granger Causality\n",
    "Now, let's perform a multivariate Granger causality test to see which variables Granger-cause Bitcoin (BTC) in a multivariate context."
   ]
  },
  {
   "cell_type": "code",
   "execution_count": null,
   "id": "7d3e72f0",
   "metadata": {},
   "outputs": [],
   "source": [
    "# Run multivariate causality analysis for BTC\n",
    "target_crypto = 'BTC'\n",
    "test_stats, coef_pvals, optimal_lag = analyzer.run_multivariate_causality(target=target_crypto)\n",
    "\n",
    "print(f\"\\nMultivariate Granger Causality for {target_crypto} (Optimal Lag: {optimal_lag}):\")\n",
    "\n",
    "# Create a DataFrame for the results\n",
    "multivariate_results = pd.DataFrame({\n",
    "    'Test Statistic': test_stats,\n",
    "    'P-Values': [p[0] for p in coef_pvals.values()]\n",
    "})"
   ]
  },
  {
   "cell_type": "markdown",
   "id": "fef32c21",
   "metadata": {},
   "source": [
    "## Time-Varying Granger Causality\n",
    "Finally, let's analyze the time-varying Granger causality between Bitcoin (BTC) and Ethereum (ETH) to see if the relationship is stable over time."
   ]
  },
  {
   "cell_type": "code",
   "execution_count": null,
   "id": "062609c7",
   "metadata": {
    "lines_to_next_cell": 2
   },
   "outputs": [],
   "source": [
    "# Define the pair to test\n",
    "pair_to_test = ('BTC', 'ETH')\n",
    "\n",
    "# Run time-varying Granger causality analysis\n",
    "tvgc_results = rolling_granger_causality(\n",
    "    y=combined_returns[pair_to_test[1]],\n",
    "    x=combined_returns[pair_to_test[0]],\n",
    "    window_size=500\n",
    ")\n",
    "\n",
    "# Plot the results\n",
    "plot_tvgc_results({f\"{pair_to_test[0]} -> {pair_to_test[1]}\": tvgc_results})\n",
    "\n",
    "# Summarize the results\n",
    "summary = summarize_tvgc_results({f\"{pair_to_test[0]} -> {pair_to_test[1]}\": tvgc_results})\n",
    "print(\"\\nTime-Varying Granger Causality Summary:\")\n",
    "print(summary)\n",
    "\n",
    "\n",
    "\n",
    "\n"
   ]
  }
 ],
 "metadata": {
  "jupytext": {
   "cell_metadata_filter": "-all",
   "main_language": "python",
   "notebook_metadata_filter": "-all"
  }
 },
 "nbformat": 4,
 "nbformat_minor": 5
}
