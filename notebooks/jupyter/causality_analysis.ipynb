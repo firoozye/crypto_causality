{
 "cells": [
  {
   "cell_type": "markdown",
   "id": "a8458c66",
   "metadata": {
    "lines_to_next_cell": 2
   },
   "source": [
    "# Causality Analysis of Crypto Data\n",
    "\n",
    "## Goal:\n",
    "* Determine causal relationships between BTC and other major crypto currencies\n",
    "* Analyze the stability of these relationships over time"
   ]
  },
  {
   "cell_type": "code",
   "execution_count": 1,
   "id": "c778ac7a",
   "metadata": {},
   "outputs": [],
   "source": [
    "import glob\n",
    "import os\n",
    "# Import causality analysis tools\n",
    "import sys\n",
    "\n",
    "import matplotlib.pyplot as plt\n",
    "import numpy as np\n",
    "import pandas as pd\n",
    "import pyarrow.parquet as pq\n",
    "import seaborn as sns\n",
    "\n",
    "# Add the project root to the python path\n",
    "try:\n",
    "    # This works when the script is run directly\n",
    "    project_root = os.path.abspath(os.path.join(os.path.dirname(__file__), \"..\", \"..\"))\n",
    "except NameError:\n",
    "    # This works when run in an interactive environment like Jupyter\n",
    "    # Assumes the notebook is in notebooks/python or notebooks/jupyter\n",
    "    project_root = os.path.abspath(os.path.join(os.getcwd(), \"..\", \"..\"))\n",
    "\n",
    "if project_root not in sys.path:\n",
    "    sys.path.insert(0, project_root)\n",
    "\n",
    "from src.analysis.granger_causality import GrangerCausalityAnalyzer\n",
    "from src.analysis.time_varying_granger import (plot_tvgc_results,\n",
    "                                               rolling_granger_causality,\n",
    "                                               summarize_tvgc_results)\n",
    "\n",
    "# Set style for better visualizations\n",
    "sns.set_theme()\n",
    "sns.set_palette(\"husl\")\n",
    "plt.rcParams[\"figure.figsize\"] = [12, 6]"
   ]
  },
  {
   "cell_type": "markdown",
   "id": "9324ccb8",
   "metadata": {
    "lines_to_next_cell": 2
   },
   "source": [
    "## Data Loading\n",
    "First, let's load our data files containing the cryptocurrency data."
   ]
  },
  {
   "cell_type": "code",
   "execution_count": 2,
   "id": "3ad69b9e",
   "metadata": {},
   "outputs": [],
   "source": [
    "def load_all_crypto_data(data_dir=os.path.join(project_root, \"data\", \"processed\")):\n",
    "    all_data = {}\n",
    "    for file in glob.glob(os.path.join(data_dir, \"*.parquet\")):\n",
    "        symbol = os.path.basename(file).split(\"_\")[0]\n",
    "        # Get symbol from filename\n",
    "        print(f\"Loading {file}...\")\n",
    "        df = pq.read_table(file).to_pandas()\n",
    "        all_data[symbol] = df\n",
    "    return all_data"
   ]
  },
  {
   "cell_type": "markdown",
   "id": "adaeb531",
   "metadata": {},
   "source": [
    " Additional Analysis: Summary Statistics"
   ]
  },
  {
   "cell_type": "code",
   "execution_count": 3,
   "id": "6ff97080",
   "metadata": {},
   "outputs": [
    {
     "name": "stdout",
     "output_type": "stream",
     "text": [
      "Loading /home/nfiroo/dev/crypto/crypto_causality/data/processed/SOLUSDT_1m_2024-01-01_2024-02-01.parquet...\n",
      "Loading /home/nfiroo/dev/crypto/crypto_causality/data/processed/ADAUSDT_1m_2024-01-01_2024-02-01.parquet...\n",
      "Loading /home/nfiroo/dev/crypto/crypto_causality/data/processed/BTCUSDT_1m_2024-01-01_2024-02-01.parquet...\n",
      "Loading /home/nfiroo/dev/crypto/crypto_causality/data/processed/DOGEUSDT_1m_2024-01-01_2024-02-01.parquet...\n",
      "Loading /home/nfiroo/dev/crypto/crypto_causality/data/processed/XRPUSDT_1m_2024-01-01_2024-02-01.parquet...\n",
      "Loading /home/nfiroo/dev/crypto/crypto_causality/data/processed/BNBUSDT_1m_2024-01-01_2024-02-01.parquet...\n",
      "Loading /home/nfiroo/dev/crypto/crypto_causality/data/processed/ETHUSDT_1m_2024-01-01_2024-02-01.parquet...\n"
     ]
    }
   ],
   "source": [
    "# Load the data\n",
    "\n",
    "crypto_data = load_all_crypto_data()"
   ]
  },
  {
   "cell_type": "code",
   "execution_count": 4,
   "id": "c7c047db",
   "metadata": {},
   "outputs": [],
   "source": [
    "# Calculate returns for each crypto\n",
    "returns_data = {}\n",
    "for symbol, df in crypto_data.items():\n",
    "    returns = pd.DataFrame()\n",
    "    returns[\"timestamp\"] = df[\"timestamp\"]\n",
    "    returns[\"returns\"] = np.log(df[\"close\"].astype(float)).diff()\n",
    "    returns_data[symbol] = returns"
   ]
  },
  {
   "cell_type": "code",
   "execution_count": 5,
   "id": "01bdd6fc",
   "metadata": {
    "lines_to_next_cell": 0
   },
   "outputs": [],
   "source": [
    "# Create a combined returns dataframe\n",
    "combined_returns = pd.DataFrame()\n",
    "for symbol, returns in returns_data.items():\n",
    "    combined_returns[symbol] = returns[\"returns\"]\n",
    "combined_returns.index = list(returns_data.values())[0][\"timestamp\"]"
   ]
  },
  {
   "cell_type": "markdown",
   "id": "2b2ad8cd",
   "metadata": {},
   "source": [
    "## Pairwise Granger Causality\n",
    "We will now perform pairwise Granger causality tests to identify potential causal relationships between the cryptocurrencies."
   ]
  },
  {
   "cell_type": "code",
   "execution_count": 6,
   "id": "824537f2",
   "metadata": {},
   "outputs": [
    {
     "name": "stderr",
     "output_type": "stream",
     "text": [
      "WARNING:src.analysis.granger_causality:Data contains null values. These will be dropped.\n"
     ]
    },
    {
     "name": "stdout",
     "output_type": "stream",
     "text": [
      "Pairwise Granger Causality Results (Significant at 5%):\n",
      "       cause    effect    min_p_value  optimal_lag  significant\n",
      "0    SOLUSDT   ADAUSDT   2.020423e-19            5         True\n",
      "1    ADAUSDT   SOLUSDT   2.606874e-76            8         True\n",
      "2    SOLUSDT   BTCUSDT   2.982025e-09           10         True\n",
      "3    BTCUSDT   SOLUSDT   1.550221e-26           10         True\n",
      "4    SOLUSDT  DOGEUSDT   3.778410e-36           10         True\n",
      "5   DOGEUSDT   SOLUSDT  1.278802e-193            8         True\n",
      "6    SOLUSDT   XRPUSDT   7.221960e-63            8         True\n",
      "7    XRPUSDT   SOLUSDT  1.567474e-222            9         True\n",
      "8    SOLUSDT   BNBUSDT   1.929234e-16           10         True\n",
      "9    BNBUSDT   SOLUSDT   2.520596e-77            8         True\n",
      "10   SOLUSDT   ETHUSDT   1.755186e-10           10         True\n",
      "11   ETHUSDT   SOLUSDT   1.558438e-42            6         True\n",
      "12   ADAUSDT   BTCUSDT   4.481836e-17           10         True\n",
      "13   BTCUSDT   ADAUSDT   2.243102e-18           10         True\n",
      "14   ADAUSDT  DOGEUSDT   1.229711e-17           10         True\n",
      "15  DOGEUSDT   ADAUSDT   2.075614e-51            7         True\n",
      "16   ADAUSDT   XRPUSDT   1.470301e-37           10         True\n",
      "17   XRPUSDT   ADAUSDT   1.132674e-86           10         True\n",
      "18   ADAUSDT   BNBUSDT   1.044431e-15            2         True\n",
      "19   BNBUSDT   ADAUSDT   4.825190e-54            1         True\n",
      "20   ADAUSDT   ETHUSDT   5.601425e-20            9         True\n",
      "21   ETHUSDT   ADAUSDT   1.972266e-25            9         True\n",
      "22   BTCUSDT  DOGEUSDT   2.873962e-22            8         True\n",
      "23  DOGEUSDT   BTCUSDT   1.049456e-62            8         True\n",
      "24   BTCUSDT   XRPUSDT   5.452493e-44            8         True\n",
      "25   XRPUSDT   BTCUSDT   1.163056e-89            9         True\n",
      "26   BTCUSDT   BNBUSDT   1.217758e-14           10         True\n",
      "27   BNBUSDT   BTCUSDT   6.461248e-29            1         True\n",
      "28   BTCUSDT   ETHUSDT   3.989768e-11           10         True\n",
      "29   ETHUSDT   BTCUSDT   3.540733e-19           10         True\n",
      "30  DOGEUSDT   XRPUSDT   7.397401e-60           10         True\n",
      "31   XRPUSDT  DOGEUSDT   3.118280e-65            9         True\n",
      "32  DOGEUSDT   BNBUSDT   4.485614e-35            3         True\n",
      "33   BNBUSDT  DOGEUSDT   4.104320e-30            6         True\n",
      "34  DOGEUSDT   ETHUSDT   2.801609e-40            8         True\n",
      "35   ETHUSDT  DOGEUSDT   1.848851e-29            9         True\n",
      "36   XRPUSDT   BNBUSDT   8.102506e-71            9         True\n",
      "37   BNBUSDT   XRPUSDT   1.956576e-42            5         True\n",
      "38   XRPUSDT   ETHUSDT   2.521488e-71           10         True\n",
      "39   ETHUSDT   XRPUSDT   3.537100e-45           10         True\n",
      "40   BNBUSDT   ETHUSDT   9.826969e-22            8         True\n",
      "41   ETHUSDT   BNBUSDT   1.941277e-12            5         True\n"
     ]
    }
   ],
   "source": [
    "# Initialize the analyzer\n",
    "analyzer = GrangerCausalityAnalyzer(combined_returns, max_lags=10)\n",
    "\n",
    "# Run pairwise causality analysis\n",
    "pairwise_results = analyzer.run_pairwise_causality()\n",
    "\n",
    "# Print summary of significant results\n",
    "print(\"Pairwise Granger Causality Results (Significant at 5%):\")\n",
    "print(pairwise_results[pairwise_results[\"significant\"]])"
   ]
  },
  {
   "cell_type": "code",
   "execution_count": 7,
   "id": "29392df7",
   "metadata": {
    "lines_to_next_cell": 0
   },
   "outputs": [
    {
     "name": "stdout",
     "output_type": "stream",
     "text": [
      "\n",
      "Causality Summary Statistics:\n"
     ]
    }
   ],
   "source": [
    "# Get summary statistics\n",
    "summary_stats = analyzer.get_summary_statistics()\n",
    "print(\"\\nCausality Summary Statistics:\")"
   ]
  },
  {
   "cell_type": "markdown",
   "id": "190de12d",
   "metadata": {},
   "source": [
    "## Multivariate Granger Causality\n",
    "Now, let's perform a multivariate Granger causality test to see which variables Granger-cause Bitcoin (BTC) in a multivariate context."
   ]
  },
  {
   "cell_type": "code",
   "execution_count": 8,
   "id": "1dde4680",
   "metadata": {},
   "outputs": [
    {
     "name": "stdout",
     "output_type": "stream",
     "text": [
      "\n",
      "Multivariate Granger Causality for BTCUSDT (Optimal Lag: 10):\n"
     ]
    }
   ],
   "source": [
    "# Run multivariate causality analysis for BTC\n",
    "target_crypto = \"BTCUSDT\"\n",
    "test_stats, coef_pvals, optimal_lag = analyzer.run_multivariate_causality(\n",
    "    target=target_crypto\n",
    ")\n",
    "\n",
    "print(\n",
    "    f\"\\nMultivariate Granger Causality for {target_crypto} (Optimal Lag: {optimal_lag}):\"\n",
    ")\n",
    "\n",
    "# Create a DataFrame for the results\n",
    "multivariate_results = pd.DataFrame({\"P-Value\": test_stats})"
   ]
  },
  {
   "cell_type": "markdown",
   "id": "6facda68",
   "metadata": {},
   "source": [
    "## Time-Varying Granger Causality\n",
    "Finally, let's analyze the time-varying Granger causality between Bitcoin (BTC) and Ethereum (ETH) to see if the relationship is stable over time."
   ]
  },
  {
   "cell_type": "code",
   "execution_count": null,
   "id": "66d2d150",
   "metadata": {},
   "outputs": [],
   "source": [
    "# Define the pair to test\n",
    "pair_to_test = (\"BTCUSDT\", \"SOLUSDT\")\n",
    "\n",
    "# Run time-varying Granger causality analysis\n",
    "tvgc_results = rolling_granger_causality(\n",
    "    y=combined_returns[pair_to_test[1]],\n",
    "    x=combined_returns[pair_to_test[0]],\n",
    "    window_size=500,\n",
    ")\n",
    "\n",
    "# Plot the results\n",
    "plot_tvgc_results({f\"{pair_to_test[0]} -> {pair_to_test[1]}\": tvgc_results})\n",
    "\n",
    "# Summarize the results\n",
    "summary = summarize_tvgc_results(\n",
    "    {f\"{pair_to_test[0]} -> {pair_to_test[1]}\": tvgc_results}\n",
    ")\n",
    "print(\"\\nTime-Varying Granger Causality Summary:\")\n",
    "print(summary)"
   ]
  }
 ],
 "metadata": {
  "jupytext": {
   "cell_metadata_filter": "-all",
   "main_language": "python",
   "notebook_metadata_filter": "-all"
  },
  "kernelspec": {
   "display_name": "",
   "name": ""
  },
  "language_info": {
   "name": ""
  }
 },
 "nbformat": 4,
 "nbformat_minor": 5
}
